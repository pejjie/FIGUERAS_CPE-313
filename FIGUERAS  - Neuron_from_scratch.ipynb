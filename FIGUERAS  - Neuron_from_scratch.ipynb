{
  "cells": [
    {
      "cell_type": "code",
      "execution_count": null,
      "metadata": {
        "id": "uSOiyCYzKoII"
      },
      "outputs": [],
      "source": [
        "import numpy as np\n",
        "\n",
        "# This class creates a neuron which can be utilized for \n",
        "# making Layers in a neural network\n",
        "\n",
        "class Neuron:\n",
        "  def __init__(self, inputs, weights):\n",
        "    self.inputs = inputs\n",
        "    self.weights = weights\n",
        "\n",
        "  def adder_func(self):\n",
        "    output = map(np.prod, zip(self.inputs, self.weights))\n",
        "    return sum(output)\n",
        "\n",
        "  def relu_afunc(self):\n",
        "    output = self.adder_func()\n",
        "    if output < 0:\n",
        "      return 0\n",
        "    else:\n",
        "      return output"
      ]
    },
    {
      "cell_type": "code",
      "execution_count": null,
      "metadata": {},
      "outputs": [],
      "source": []
    },
    {
      "cell_type": "code",
      "execution_count": null,
      "metadata": {
        "colab": {
          "base_uri": "https://localhost:8080/"
        },
        "id": "qfAB9dTBNoRz",
        "outputId": "c68a67c4-f65f-4a25-e15b-2c232a85b3ff"
      },
      "outputs": [
        {
          "data": {
            "text/plain": [
              "-11.0"
            ]
          },
          "execution_count": 143,
          "metadata": {},
          "output_type": "execute_result"
        }
      ],
      "source": [
        "n1 = Neuron(inputs=[5,6,7,8,9], weights=[1,3,5,7,9])\n",
        "n1.adder_func()"
      ]
    },
    {
      "cell_type": "code",
      "execution_count": null,
      "metadata": {
        "colab": {
          "base_uri": "https://localhost:8080/"
        },
        "id": "NGOiPVJsS7Hd",
        "outputId": "d7f4df98-a3d0-4255-a7a8-3355eb0afb13"
      },
      "outputs": [
        {
          "data": {
            "text/plain": [
              "[10, 15, 20, 30]"
            ]
          },
          "execution_count": 144,
          "metadata": {},
          "output_type": "execute_result"
        }
      ],
      "source": [
        "n1.inputs"
      ]
    },
    {
      "cell_type": "code",
      "execution_count": null,
      "metadata": {
        "colab": {
          "base_uri": "https://localhost:8080/"
        },
        "id": "QkF5k0RFOv6b",
        "outputId": "13ccf725-9f69-4ef5-c326-e2c2fd52a558"
      },
      "outputs": [
        {
          "data": {
            "text/plain": [
              "[-0.6, -0.8, 0.2, 0.1]"
            ]
          },
          "execution_count": 145,
          "metadata": {},
          "output_type": "execute_result"
        }
      ],
      "source": [
        "n1.weights"
      ]
    },
    {
      "cell_type": "code",
      "execution_count": 146,
      "metadata": {
        "colab": {
          "base_uri": "https://localhost:8080/"
        },
        "id": "SAOL2KAQYbCJ",
        "outputId": "4fee9abc-a79c-4bc9-e5e8-fa4e743ab90a"
      },
      "outputs": [
        {
          "data": {
            "text/plain": [
              "0"
            ]
          },
          "execution_count": 146,
          "metadata": {},
          "output_type": "execute_result"
        }
      ],
      "source": [
        "n1.relu_afunc()"
      ]
    },
    {
      "cell_type": "code",
      "execution_count": null,
      "metadata": {},
      "outputs": [],
      "source": [
        "n2 = Neuron(inputs=[5,6,7,8,9], weights=[1,3,5,7,9])\n",
        "n3 = Neuron(inputs=[5,6,7,8,9], weights=[1,3,5,7,9])"
      ]
    },
    {
      "cell_type": "code",
      "execution_count": null,
      "metadata": {},
      "outputs": [],
      "source": [
        "n4 = Neuron(inputs=[n1.adder_func(),n2.adder_func(),n3.adder_func()], weights=[1,3,5,7,9])"
      ]
    }
  ],
  "metadata": {
    "colab": {
      "provenance": []
    },
    "kernelspec": {
      "display_name": "Python 3",
      "name": "python3"
    },
    "language_info": {
      "name": "python"
    }
  },
  "nbformat": 4,
  "nbformat_minor": 0
}
