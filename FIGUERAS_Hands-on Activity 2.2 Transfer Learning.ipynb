{
  "cells": [
    {
      "cell_type": "markdown",
      "id": "annual-sandwich",
      "metadata": {
        "id": "annual-sandwich"
      },
      "source": [
        "# Activity 2.2 - Transfer Learning"
      ]
    },
    {
      "cell_type": "markdown",
      "id": "great-fireplace",
      "metadata": {
        "id": "great-fireplace"
      },
      "source": [
        "#### Objective(s):\n",
        "\n",
        "This activity aims to introduce how to apply transfer learning"
      ]
    },
    {
      "cell_type": "markdown",
      "id": "subjective-elimination",
      "metadata": {
        "id": "subjective-elimination"
      },
      "source": [
        "#### Intended Learning Outcomes (ILOs):\n",
        "* Demonstrate how to build and train neural network\n",
        "* Demonstrate how to apply transfer learning in neural network\n"
      ]
    },
    {
      "cell_type": "markdown",
      "id": "simplified-azerbaijan",
      "metadata": {
        "id": "simplified-azerbaijan"
      },
      "source": [
        "#### Resources:\n",
        "* Jupyter Notebook\n",
        "* CIFAR-10 dataset"
      ]
    },
    {
      "cell_type": "markdown",
      "id": "ordinary-crime",
      "metadata": {
        "id": "ordinary-crime"
      },
      "source": [
        "#### Procedures\n",
        "Load the necessary libraries"
      ]
    },
    {
      "cell_type": "code",
      "execution_count": 2,
      "id": "comic-joining",
      "metadata": {
        "id": "comic-joining"
      },
      "outputs": [],
      "source": [
        "from __future__ import print_function\n",
        "\n",
        "import datetime\n",
        "import keras\n",
        "from keras.datasets import mnist\n",
        "from keras.models import Sequential\n",
        "from keras.layers import Dense, Dropout, Activation, Flatten\n",
        "from keras.layers import Conv2D, MaxPooling2D\n",
        "from keras import backend as K"
      ]
    },
    {
      "cell_type": "markdown",
      "id": "moral-chair",
      "metadata": {
        "id": "moral-chair"
      },
      "source": [
        "Set the parameters"
      ]
    },
    {
      "cell_type": "code",
      "execution_count": 3,
      "id": "sticky-metallic",
      "metadata": {
        "id": "sticky-metallic"
      },
      "outputs": [],
      "source": [
        "now = datetime.datetime.now\n",
        "batch_size = 128\n",
        "num_classes = 5\n",
        "epochs = 5\n",
        "img_rows, img_cols = 28, 28\n",
        "filters = 32\n",
        "pool_size = 2\n",
        "kernel_size = 3"
      ]
    },
    {
      "cell_type": "markdown",
      "id": "resident-activity",
      "metadata": {
        "id": "resident-activity"
      },
      "source": [
        "Set how the input data is loaded"
      ]
    },
    {
      "cell_type": "code",
      "execution_count": 4,
      "id": "measured-queens",
      "metadata": {
        "id": "measured-queens"
      },
      "outputs": [],
      "source": [
        "if K.image_data_format() == 'channels_first':\n",
        "    input_shape = (1, img_rows, img_cols)\n",
        "else:\n",
        "    input_shape = (img_rows, img_cols, 1)"
      ]
    },
    {
      "cell_type": "markdown",
      "id": "jewish-russell",
      "metadata": {
        "id": "jewish-russell"
      },
      "source": [
        "* Write a function to include all the training steps.\n",
        "* Use the model, training set, test set and number of classes as function parameters\n"
      ]
    },
    {
      "cell_type": "code",
      "execution_count": 5,
      "id": "julian-batch",
      "metadata": {
        "id": "julian-batch"
      },
      "outputs": [],
      "source": [
        "def train_model(model, train, test, num_classes):\n",
        "    x_train = train[0].reshape((train[0].shape[0],) + input_shape)\n",
        "    x_test = test[0].reshape((test[0].shape[0],) + input_shape)\n",
        "    x_train = x_train.astype('float32')\n",
        "    x_test = x_test.astype('float32')\n",
        "    x_train /= 255\n",
        "    x_test /= 255\n",
        "    print('x_train shape:', x_train.shape)\n",
        "    print(x_train.shape[0], 'train samples')\n",
        "    print(x_test.shape[0], 'test samples')\n",
        "\n",
        "    # convert class vectors to binary class matrices\n",
        "    y_train = keras.utils.to_categorical(train[1], num_classes)\n",
        "    y_test = keras.utils.to_categorical(test[1], num_classes)\n",
        "\n",
        "    model.compile(loss='categorical_crossentropy',\n",
        "                  optimizer='adadelta',\n",
        "                  metrics=['accuracy'])\n",
        "\n",
        "    t = now()\n",
        "    model.fit(x_train, y_train,\n",
        "              batch_size=batch_size,\n",
        "              epochs=epochs,\n",
        "              verbose=1,\n",
        "              validation_data=(x_test, y_test))\n",
        "    print('Training time: %s' % (now() - t))\n",
        "\n",
        "    score = model.evaluate(x_test, y_test, verbose=0)\n",
        "    print('Test score:', score[0])\n",
        "    print('Test accuracy:', score[1])"
      ]
    },
    {
      "cell_type": "markdown",
      "id": "monetary-final",
      "metadata": {
        "id": "monetary-final"
      },
      "source": [
        "Shuffle and split the data between train and test sets"
      ]
    },
    {
      "cell_type": "code",
      "execution_count": 6,
      "id": "hollywood-amendment",
      "metadata": {
        "id": "hollywood-amendment",
        "colab": {
          "base_uri": "https://localhost:8080/"
        },
        "outputId": "4b1ef228-0337-47f9-a7de-b0ca22ca563d"
      },
      "outputs": [
        {
          "output_type": "stream",
          "name": "stdout",
          "text": [
            "Downloading data from https://storage.googleapis.com/tensorflow/tf-keras-datasets/mnist.npz\n",
            "11490434/11490434 [==============================] - 0s 0us/step\n"
          ]
        }
      ],
      "source": [
        "(x_train, y_train), (x_test, y_test) = mnist.load_data()"
      ]
    },
    {
      "cell_type": "markdown",
      "id": "committed-bench",
      "metadata": {
        "id": "committed-bench"
      },
      "source": [
        "Create two datasets\n",
        "* one with digits below 5\n",
        "* one with 5 and above"
      ]
    },
    {
      "cell_type": "code",
      "execution_count": 7,
      "id": "lesser-bradley",
      "metadata": {
        "id": "lesser-bradley"
      },
      "outputs": [],
      "source": [
        "x_train_lt5 = x_train[y_train < 5]\n",
        "y_train_lt5 = y_train[y_train < 5]\n",
        "x_test_lt5 = x_test[y_test < 5]\n",
        "y_test_lt5 = y_test[y_test < 5]\n",
        "\n",
        "x_train_gte5 = x_train[y_train >= 5]\n",
        "y_train_gte5 = y_train[y_train >= 5] - 5\n",
        "x_test_gte5 = x_test[y_test >= 5]\n",
        "y_test_gte5 = y_test[y_test >= 5] - 5"
      ]
    },
    {
      "cell_type": "markdown",
      "id": "talented-scheme",
      "metadata": {
        "id": "talented-scheme"
      },
      "source": [
        "* Define the feature layers that will be used for transfer learning\n",
        "* Freeze these layers during fine-tuning process"
      ]
    },
    {
      "cell_type": "code",
      "execution_count": 8,
      "id": "ranging-neutral",
      "metadata": {
        "id": "ranging-neutral"
      },
      "outputs": [],
      "source": [
        "feature_layers = [\n",
        "    Conv2D(filters, kernel_size,\n",
        "           padding='valid',\n",
        "           input_shape=input_shape),\n",
        "    Activation('relu'),\n",
        "    Conv2D(filters, kernel_size),\n",
        "    Activation('relu'),\n",
        "    MaxPooling2D(pool_size=pool_size),\n",
        "    Dropout(0.25),\n",
        "    Flatten(),\n",
        "]"
      ]
    },
    {
      "cell_type": "markdown",
      "id": "bulgarian-accuracy",
      "metadata": {
        "id": "bulgarian-accuracy"
      },
      "source": [
        "Define the classification layers"
      ]
    },
    {
      "cell_type": "code",
      "execution_count": 10,
      "id": "religious-timer",
      "metadata": {
        "id": "religious-timer"
      },
      "outputs": [],
      "source": [
        "classification_layers = [\n",
        "    Dense(128),\n",
        "    Activation('relu'),\n",
        "    Dropout(0.5),\n",
        "    Dense(num_classes),\n",
        "    Activation('softmax')\n",
        "]"
      ]
    },
    {
      "cell_type": "markdown",
      "id": "yellow-puzzle",
      "metadata": {
        "id": "yellow-puzzle"
      },
      "source": [
        "Create a model by combining the feature layers and classification layers"
      ]
    },
    {
      "cell_type": "code",
      "execution_count": 11,
      "id": "governmental-portable",
      "metadata": {
        "id": "governmental-portable"
      },
      "outputs": [],
      "source": [
        "model = Sequential(feature_layers + classification_layers)"
      ]
    },
    {
      "cell_type": "markdown",
      "id": "noticed-dairy",
      "metadata": {
        "id": "noticed-dairy"
      },
      "source": [
        "Check the model summary"
      ]
    },
    {
      "cell_type": "code",
      "execution_count": 12,
      "id": "correct-syria",
      "metadata": {
        "id": "correct-syria",
        "colab": {
          "base_uri": "https://localhost:8080/"
        },
        "outputId": "27cde95f-c3ab-45fc-a18e-c8dee5470b23"
      },
      "outputs": [
        {
          "output_type": "stream",
          "name": "stdout",
          "text": [
            "Model: \"sequential\"\n",
            "_________________________________________________________________\n",
            " Layer (type)                Output Shape              Param #   \n",
            "=================================================================\n",
            " conv2d (Conv2D)             (None, 26, 26, 32)        320       \n",
            "                                                                 \n",
            " activation (Activation)     (None, 26, 26, 32)        0         \n",
            "                                                                 \n",
            " conv2d_1 (Conv2D)           (None, 24, 24, 32)        9248      \n",
            "                                                                 \n",
            " activation_1 (Activation)   (None, 24, 24, 32)        0         \n",
            "                                                                 \n",
            " max_pooling2d (MaxPooling2  (None, 12, 12, 32)        0         \n",
            " D)                                                              \n",
            "                                                                 \n",
            " dropout (Dropout)           (None, 12, 12, 32)        0         \n",
            "                                                                 \n",
            " flatten (Flatten)           (None, 4608)              0         \n",
            "                                                                 \n",
            " dense_2 (Dense)             (None, 128)               589952    \n",
            "                                                                 \n",
            " activation_4 (Activation)   (None, 128)               0         \n",
            "                                                                 \n",
            " dropout_2 (Dropout)         (None, 128)               0         \n",
            "                                                                 \n",
            " dense_3 (Dense)             (None, 5)                 645       \n",
            "                                                                 \n",
            " activation_5 (Activation)   (None, 5)                 0         \n",
            "                                                                 \n",
            "=================================================================\n",
            "Total params: 600165 (2.29 MB)\n",
            "Trainable params: 600165 (2.29 MB)\n",
            "Non-trainable params: 0 (0.00 Byte)\n",
            "_________________________________________________________________\n"
          ]
        }
      ],
      "source": [
        "model.summary()"
      ]
    },
    {
      "cell_type": "markdown",
      "id": "productive-regular",
      "metadata": {
        "id": "productive-regular"
      },
      "source": [
        " Train the  model on the digits 5,6,7,8,9"
      ]
    },
    {
      "cell_type": "code",
      "execution_count": 13,
      "id": "distinct-ticket",
      "metadata": {
        "id": "distinct-ticket",
        "colab": {
          "base_uri": "https://localhost:8080/"
        },
        "outputId": "b0cc556a-5396-4400-d3ed-ea3ebdf79157"
      },
      "outputs": [
        {
          "output_type": "stream",
          "name": "stdout",
          "text": [
            "x_train shape: (29404, 28, 28, 1)\n",
            "29404 train samples\n",
            "4861 test samples\n",
            "Epoch 1/5\n",
            "230/230 [==============================] - 47s 200ms/step - loss: 1.5915 - accuracy: 0.2684 - val_loss: 1.5731 - val_accuracy: 0.3649\n",
            "Epoch 2/5\n",
            "230/230 [==============================] - 46s 201ms/step - loss: 1.5685 - accuracy: 0.3279 - val_loss: 1.5455 - val_accuracy: 0.4779\n",
            "Epoch 3/5\n",
            "230/230 [==============================] - 47s 204ms/step - loss: 1.5435 - accuracy: 0.3952 - val_loss: 1.5151 - val_accuracy: 0.6276\n",
            "Epoch 4/5\n",
            "230/230 [==============================] - 46s 199ms/step - loss: 1.5131 - accuracy: 0.4609 - val_loss: 1.4804 - val_accuracy: 0.7227\n",
            "Epoch 5/5\n",
            "230/230 [==============================] - 47s 203ms/step - loss: 1.4806 - accuracy: 0.5131 - val_loss: 1.4413 - val_accuracy: 0.7667\n",
            "Training time: 0:04:23.307833\n",
            "Test score: 1.4412593841552734\n",
            "Test accuracy: 0.7667146921157837\n"
          ]
        }
      ],
      "source": [
        "train_model(model,\n",
        "            (x_train_gte5, y_train_gte5),\n",
        "            (x_test_gte5, y_test_gte5), num_classes)"
      ]
    },
    {
      "cell_type": "markdown",
      "id": "racial-emission",
      "metadata": {
        "id": "racial-emission"
      },
      "source": [
        "Freeze only the feature layers"
      ]
    },
    {
      "cell_type": "code",
      "execution_count": 14,
      "id": "violent-territory",
      "metadata": {
        "id": "violent-territory"
      },
      "outputs": [],
      "source": [
        "for l in feature_layers:\n",
        "    l.trainable = False"
      ]
    },
    {
      "cell_type": "markdown",
      "id": "continuous-injection",
      "metadata": {
        "id": "continuous-injection"
      },
      "source": [
        "Check again the summary and observe the parameters from the previous model"
      ]
    },
    {
      "cell_type": "code",
      "execution_count": 15,
      "id": "sunset-manhattan",
      "metadata": {
        "id": "sunset-manhattan",
        "colab": {
          "base_uri": "https://localhost:8080/"
        },
        "outputId": "bf83000f-ea8d-4d23-c0f7-eb6c7e6025ef"
      },
      "outputs": [
        {
          "output_type": "stream",
          "name": "stdout",
          "text": [
            "Model: \"sequential\"\n",
            "_________________________________________________________________\n",
            " Layer (type)                Output Shape              Param #   \n",
            "=================================================================\n",
            " conv2d (Conv2D)             (None, 26, 26, 32)        320       \n",
            "                                                                 \n",
            " activation (Activation)     (None, 26, 26, 32)        0         \n",
            "                                                                 \n",
            " conv2d_1 (Conv2D)           (None, 24, 24, 32)        9248      \n",
            "                                                                 \n",
            " activation_1 (Activation)   (None, 24, 24, 32)        0         \n",
            "                                                                 \n",
            " max_pooling2d (MaxPooling2  (None, 12, 12, 32)        0         \n",
            " D)                                                              \n",
            "                                                                 \n",
            " dropout (Dropout)           (None, 12, 12, 32)        0         \n",
            "                                                                 \n",
            " flatten (Flatten)           (None, 4608)              0         \n",
            "                                                                 \n",
            " dense_2 (Dense)             (None, 128)               589952    \n",
            "                                                                 \n",
            " activation_4 (Activation)   (None, 128)               0         \n",
            "                                                                 \n",
            " dropout_2 (Dropout)         (None, 128)               0         \n",
            "                                                                 \n",
            " dense_3 (Dense)             (None, 5)                 645       \n",
            "                                                                 \n",
            " activation_5 (Activation)   (None, 5)                 0         \n",
            "                                                                 \n",
            "=================================================================\n",
            "Total params: 600165 (2.29 MB)\n",
            "Trainable params: 590597 (2.25 MB)\n",
            "Non-trainable params: 9568 (37.38 KB)\n",
            "_________________________________________________________________\n"
          ]
        }
      ],
      "source": [
        "model.summary()"
      ]
    },
    {
      "cell_type": "markdown",
      "id": "modern-carnival",
      "metadata": {
        "id": "modern-carnival"
      },
      "source": [
        "Train again the model using the 0 to 4 digits"
      ]
    },
    {
      "cell_type": "code",
      "execution_count": 16,
      "id": "comprehensive-nurse",
      "metadata": {
        "id": "comprehensive-nurse",
        "colab": {
          "base_uri": "https://localhost:8080/"
        },
        "outputId": "f28212b3-b650-4646-a231-a2040a6d017c"
      },
      "outputs": [
        {
          "output_type": "stream",
          "name": "stdout",
          "text": [
            "x_train shape: (30596, 28, 28, 1)\n",
            "30596 train samples\n",
            "5139 test samples\n",
            "Epoch 1/5\n",
            "240/240 [==============================] - 26s 102ms/step - loss: 1.5814 - accuracy: 0.2676 - val_loss: 1.5472 - val_accuracy: 0.3929\n",
            "Epoch 2/5\n",
            "240/240 [==============================] - 18s 75ms/step - loss: 1.5372 - accuracy: 0.3596 - val_loss: 1.5006 - val_accuracy: 0.5046\n",
            "Epoch 3/5\n",
            "240/240 [==============================] - 19s 78ms/step - loss: 1.4965 - accuracy: 0.4261 - val_loss: 1.4557 - val_accuracy: 0.6042\n",
            "Epoch 4/5\n",
            "240/240 [==============================] - 16s 69ms/step - loss: 1.4537 - accuracy: 0.4936 - val_loss: 1.4122 - val_accuracy: 0.6885\n",
            "Epoch 5/5\n",
            "240/240 [==============================] - 19s 78ms/step - loss: 1.4141 - accuracy: 0.5475 - val_loss: 1.3697 - val_accuracy: 0.7463\n",
            "Training time: 0:01:38.211552\n",
            "Test score: 1.369651436805725\n",
            "Test accuracy: 0.7462541460990906\n"
          ]
        }
      ],
      "source": [
        "train_model(model,\n",
        "            (x_train_lt5, y_train_lt5),\n",
        "            (x_test_lt5, y_test_lt5), num_classes)"
      ]
    },
    {
      "cell_type": "markdown",
      "id": "numerical-integer",
      "metadata": {
        "id": "numerical-integer"
      },
      "source": [
        "#### Supplementary Activity\n",
        "Now write code to reverse this training process. That is, you will train on the digits 0-4, and then finetune only the last layers on the digits 5-9."
      ]
    },
    {
      "cell_type": "code",
      "source": [
        "# I reused the feature_layers and classification_layers\n",
        "## which were first used earlier in the procedure.\n",
        "\n",
        "feature_layers_sa = [\n",
        "    Conv2D(filters, kernel_size,\n",
        "           padding='valid',\n",
        "           input_shape=input_shape),\n",
        "    Activation('relu'),\n",
        "    Conv2D(filters, kernel_size),\n",
        "    Activation('relu'),\n",
        "    MaxPooling2D(pool_size=pool_size),\n",
        "    Dropout(0.25),\n",
        "    Flatten(),\n",
        "]"
      ],
      "metadata": {
        "id": "C06EG4vqbc4X"
      },
      "id": "C06EG4vqbc4X",
      "execution_count": 20,
      "outputs": []
    },
    {
      "cell_type": "code",
      "source": [
        "classification_layers_sa = [\n",
        "    Dense(128),\n",
        "    Activation('relu'),\n",
        "    Dropout(0.5),\n",
        "    Dense(num_classes),\n",
        "    Activation('softmax')\n",
        "]"
      ],
      "metadata": {
        "id": "Q1z6Tg1dbezC"
      },
      "id": "Q1z6Tg1dbezC",
      "execution_count": 21,
      "outputs": []
    },
    {
      "cell_type": "code",
      "source": [
        "model_sa = Sequential(feature_layers_sa + classification_layers_sa)"
      ],
      "metadata": {
        "id": "ED0zMN4cbTY2"
      },
      "id": "ED0zMN4cbTY2",
      "execution_count": 22,
      "outputs": []
    },
    {
      "cell_type": "code",
      "source": [
        "model_sa.summary()"
      ],
      "metadata": {
        "colab": {
          "base_uri": "https://localhost:8080/"
        },
        "id": "lCOYg7PqbXXa",
        "outputId": "ffe421b1-fadb-4ab6-d567-7fd22f207873"
      },
      "id": "lCOYg7PqbXXa",
      "execution_count": 23,
      "outputs": [
        {
          "output_type": "stream",
          "name": "stdout",
          "text": [
            "Model: \"sequential_2\"\n",
            "_________________________________________________________________\n",
            " Layer (type)                Output Shape              Param #   \n",
            "=================================================================\n",
            " conv2d_2 (Conv2D)           (None, 26, 26, 32)        320       \n",
            "                                                                 \n",
            " activation_6 (Activation)   (None, 26, 26, 32)        0         \n",
            "                                                                 \n",
            " conv2d_3 (Conv2D)           (None, 24, 24, 32)        9248      \n",
            "                                                                 \n",
            " activation_7 (Activation)   (None, 24, 24, 32)        0         \n",
            "                                                                 \n",
            " max_pooling2d_1 (MaxPoolin  (None, 12, 12, 32)        0         \n",
            " g2D)                                                            \n",
            "                                                                 \n",
            " dropout_3 (Dropout)         (None, 12, 12, 32)        0         \n",
            "                                                                 \n",
            " flatten_1 (Flatten)         (None, 4608)              0         \n",
            "                                                                 \n",
            " dense_4 (Dense)             (None, 128)               589952    \n",
            "                                                                 \n",
            " activation_8 (Activation)   (None, 128)               0         \n",
            "                                                                 \n",
            " dropout_4 (Dropout)         (None, 128)               0         \n",
            "                                                                 \n",
            " dense_5 (Dense)             (None, 5)                 645       \n",
            "                                                                 \n",
            " activation_9 (Activation)   (None, 5)                 0         \n",
            "                                                                 \n",
            "=================================================================\n",
            "Total params: 600165 (2.29 MB)\n",
            "Trainable params: 600165 (2.29 MB)\n",
            "Non-trainable params: 0 (0.00 Byte)\n",
            "_________________________________________________________________\n"
          ]
        }
      ]
    },
    {
      "cell_type": "code",
      "execution_count": 24,
      "id": "registered-venice",
      "metadata": {
        "id": "registered-venice",
        "colab": {
          "base_uri": "https://localhost:8080/"
        },
        "outputId": "c3d493bd-1abe-46ca-c4b1-9e63cf9d9195"
      },
      "outputs": [
        {
          "output_type": "stream",
          "name": "stdout",
          "text": [
            "x_train shape: (30596, 28, 28, 1)\n",
            "30596 train samples\n",
            "5139 test samples\n",
            "Epoch 1/5\n",
            "240/240 [==============================] - 61s 250ms/step - loss: 1.5867 - accuracy: 0.2669 - val_loss: 1.5620 - val_accuracy: 0.3466\n",
            "Epoch 2/5\n",
            "240/240 [==============================] - 50s 210ms/step - loss: 1.5504 - accuracy: 0.3554 - val_loss: 1.5204 - val_accuracy: 0.5001\n",
            "Epoch 3/5\n",
            "240/240 [==============================] - 50s 209ms/step - loss: 1.5111 - accuracy: 0.4456 - val_loss: 1.4740 - val_accuracy: 0.6135\n",
            "Epoch 4/5\n",
            "240/240 [==============================] - 51s 214ms/step - loss: 1.4655 - accuracy: 0.5192 - val_loss: 1.4201 - val_accuracy: 0.7077\n",
            "Epoch 5/5\n",
            "240/240 [==============================] - 49s 204ms/step - loss: 1.4133 - accuracy: 0.5922 - val_loss: 1.3576 - val_accuracy: 0.7786\n",
            "Training time: 0:04:21.639510\n",
            "Test score: 1.3575791120529175\n",
            "Test accuracy: 0.7785561680793762\n"
          ]
        }
      ],
      "source": [
        "train_model(model_sa,\n",
        "            (x_train_lt5, y_train_lt5),\n",
        "            (x_test_lt5, y_test_lt5), num_classes)"
      ]
    },
    {
      "cell_type": "code",
      "source": [
        "# Just like in the procedure, after training the model for the\n",
        "## first 5 digits (0-4) we will freeze only the feature layers.\n",
        "\n",
        "for l in feature_layers_sa:\n",
        "    l.trainable = False"
      ],
      "metadata": {
        "id": "LUTQDCi3b1bA"
      },
      "id": "LUTQDCi3b1bA",
      "execution_count": 25,
      "outputs": []
    },
    {
      "cell_type": "code",
      "source": [
        "model_sa.summary()"
      ],
      "metadata": {
        "colab": {
          "base_uri": "https://localhost:8080/"
        },
        "id": "NJBMzAiEb152",
        "outputId": "0abf6fa7-2119-488c-f694-8e9827cbea0c"
      },
      "id": "NJBMzAiEb152",
      "execution_count": 26,
      "outputs": [
        {
          "output_type": "stream",
          "name": "stdout",
          "text": [
            "Model: \"sequential_2\"\n",
            "_________________________________________________________________\n",
            " Layer (type)                Output Shape              Param #   \n",
            "=================================================================\n",
            " conv2d_2 (Conv2D)           (None, 26, 26, 32)        320       \n",
            "                                                                 \n",
            " activation_6 (Activation)   (None, 26, 26, 32)        0         \n",
            "                                                                 \n",
            " conv2d_3 (Conv2D)           (None, 24, 24, 32)        9248      \n",
            "                                                                 \n",
            " activation_7 (Activation)   (None, 24, 24, 32)        0         \n",
            "                                                                 \n",
            " max_pooling2d_1 (MaxPoolin  (None, 12, 12, 32)        0         \n",
            " g2D)                                                            \n",
            "                                                                 \n",
            " dropout_3 (Dropout)         (None, 12, 12, 32)        0         \n",
            "                                                                 \n",
            " flatten_1 (Flatten)         (None, 4608)              0         \n",
            "                                                                 \n",
            " dense_4 (Dense)             (None, 128)               589952    \n",
            "                                                                 \n",
            " activation_8 (Activation)   (None, 128)               0         \n",
            "                                                                 \n",
            " dropout_4 (Dropout)         (None, 128)               0         \n",
            "                                                                 \n",
            " dense_5 (Dense)             (None, 5)                 645       \n",
            "                                                                 \n",
            " activation_9 (Activation)   (None, 5)                 0         \n",
            "                                                                 \n",
            "=================================================================\n",
            "Total params: 600165 (2.29 MB)\n",
            "Trainable params: 590597 (2.25 MB)\n",
            "Non-trainable params: 9568 (37.38 KB)\n",
            "_________________________________________________________________\n"
          ]
        }
      ]
    },
    {
      "cell_type": "code",
      "source": [
        "train_model(model_sa,\n",
        "            (x_train_lt5, y_train_lt5),\n",
        "            (x_test_lt5, y_test_lt5), num_classes)"
      ],
      "metadata": {
        "colab": {
          "base_uri": "https://localhost:8080/"
        },
        "id": "JNSpdCOYb-Lj",
        "outputId": "5f8278bb-cd27-4bcb-d105-e809bc55ccbc"
      },
      "id": "JNSpdCOYb-Lj",
      "execution_count": 27,
      "outputs": [
        {
          "output_type": "stream",
          "name": "stdout",
          "text": [
            "x_train shape: (30596, 28, 28, 1)\n",
            "30596 train samples\n",
            "5139 test samples\n",
            "Epoch 1/5\n",
            "240/240 [==============================] - 19s 75ms/step - loss: 1.3635 - accuracy: 0.6440 - val_loss: 1.3148 - val_accuracy: 0.8208\n",
            "Epoch 2/5\n",
            "240/240 [==============================] - 18s 76ms/step - loss: 1.3237 - accuracy: 0.6951 - val_loss: 1.2722 - val_accuracy: 0.8504\n",
            "Epoch 3/5\n",
            "240/240 [==============================] - 17s 70ms/step - loss: 1.2859 - accuracy: 0.7307 - val_loss: 1.2298 - val_accuracy: 0.8727\n",
            "Epoch 4/5\n",
            "240/240 [==============================] - 18s 74ms/step - loss: 1.2450 - accuracy: 0.7633 - val_loss: 1.1885 - val_accuracy: 0.8922\n",
            "Epoch 5/5\n",
            "240/240 [==============================] - 18s 74ms/step - loss: 1.2048 - accuracy: 0.7914 - val_loss: 1.1477 - val_accuracy: 0.9054\n",
            "Training time: 0:02:22.801219\n",
            "Test score: 1.1477142572402954\n",
            "Test accuracy: 0.9054290652275085\n"
          ]
        }
      ]
    },
    {
      "cell_type": "markdown",
      "source": [
        "The model trained in the supplementary activity has a higher test score and accuracy compared to the first model trained in the procedure."
      ],
      "metadata": {
        "id": "fPgUUzLl9jKd"
      },
      "id": "fPgUUzLl9jKd"
    },
    {
      "cell_type": "markdown",
      "id": "cardiovascular-sapphire",
      "metadata": {
        "id": "cardiovascular-sapphire"
      },
      "source": [
        "### Conclusion\n",
        "- In this activity, we were taught on how to do transfer learning, which in simpler terms, is the utilization of pretrained models to be reused on new problems. The model trained in this activity was applied to the CIFAR-10 dataset, using the digits from 0-9. This activity helped us better understand different use-cases and applications of deep learning in training models.\n"
      ]
    }
  ],
  "metadata": {
    "kernelspec": {
      "display_name": "Python 3",
      "language": "python",
      "name": "python3"
    },
    "language_info": {
      "codemirror_mode": {
        "name": "ipython",
        "version": 3
      },
      "file_extension": ".py",
      "mimetype": "text/x-python",
      "name": "python",
      "nbconvert_exporter": "python",
      "pygments_lexer": "ipython3",
      "version": "3.7.10"
    },
    "colab": {
      "provenance": []
    }
  },
  "nbformat": 4,
  "nbformat_minor": 5
}