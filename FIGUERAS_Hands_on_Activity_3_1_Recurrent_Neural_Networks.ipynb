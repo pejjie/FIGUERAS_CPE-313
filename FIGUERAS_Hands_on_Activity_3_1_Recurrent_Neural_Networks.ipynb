{
  "cells": [
    {
      "cell_type": "markdown",
      "id": "fourth-lesbian",
      "metadata": {
        "id": "fourth-lesbian"
      },
      "source": [
        "# Activity 3.1 - Recurrent Neural Networks"
      ]
    },
    {
      "cell_type": "markdown",
      "id": "historical-import",
      "metadata": {
        "id": "historical-import"
      },
      "source": [
        "#### Objective(s):\n",
        "\n",
        "This activity aims to introduce how to build a recurrent neural network"
      ]
    },
    {
      "cell_type": "markdown",
      "id": "related-karma",
      "metadata": {
        "id": "related-karma"
      },
      "source": [
        "#### Intended Learning Outcomes (ILOs):\n",
        "* Demonstrate how to build and train neural recurrent neural network\n",
        "* Evaluate the score and accuracy of the recurrent neural network"
      ]
    },
    {
      "cell_type": "markdown",
      "id": "fossil-thermal",
      "metadata": {
        "id": "fossil-thermal"
      },
      "source": [
        "#### Resources:\n",
        "* Jupyter Notebook\n",
        "* IMDB"
      ]
    },
    {
      "cell_type": "markdown",
      "id": "australian-marketing",
      "metadata": {
        "id": "australian-marketing"
      },
      "source": [
        "#### Procedures\n",
        "Load the necessary libraries"
      ]
    },
    {
      "cell_type": "code",
      "execution_count": null,
      "id": "based-growing",
      "metadata": {
        "id": "based-growing"
      },
      "outputs": [],
      "source": [
        "from __future__ import print_function\n",
        "import keras\n",
        "from keras.preprocessing import sequence\n",
        "from keras.models import Sequential\n",
        "from keras.layers import Dense, Embedding\n",
        "from keras.layers import SimpleRNN\n",
        "from keras.datasets import imdb\n",
        "from keras import initializers"
      ]
    },
    {
      "cell_type": "markdown",
      "id": "romance-object",
      "metadata": {
        "id": "romance-object"
      },
      "source": [
        "* Set the max_features to 20000\n",
        "* Set the maximum length of a sequence\n",
        "* Use the batch size of 32"
      ]
    },
    {
      "cell_type": "code",
      "execution_count": null,
      "id": "pending-finance",
      "metadata": {
        "id": "pending-finance"
      },
      "outputs": [],
      "source": [
        "max_features = 20000\n",
        "maxlen = 30\n",
        "batch_size = 32"
      ]
    },
    {
      "cell_type": "markdown",
      "id": "juvenile-defensive",
      "metadata": {
        "id": "juvenile-defensive"
      },
      "source": [
        "Load the data"
      ]
    },
    {
      "cell_type": "code",
      "execution_count": null,
      "id": "familiar-escape",
      "metadata": {
        "id": "familiar-escape",
        "colab": {
          "base_uri": "https://localhost:8080/"
        },
        "outputId": "ec10579b-2d05-4124-93ea-f595697e5c6d"
      },
      "outputs": [
        {
          "output_type": "stream",
          "name": "stdout",
          "text": [
            "25000 train sequences\n",
            "25000 test sequences\n"
          ]
        }
      ],
      "source": [
        "(x_train, y_train), (x_test, y_test) = imdb.load_data(num_words=max_features)\n",
        "print(len(x_train), 'train sequences')\n",
        "print(len(x_test), 'test sequences')"
      ]
    },
    {
      "cell_type": "markdown",
      "id": "hairy-volleyball",
      "metadata": {
        "id": "hairy-volleyball"
      },
      "source": [
        " Truncates the sequences so that they are of the maximum length"
      ]
    },
    {
      "cell_type": "code",
      "execution_count": null,
      "id": "distant-praise",
      "metadata": {
        "id": "distant-praise",
        "colab": {
          "base_uri": "https://localhost:8080/"
        },
        "outputId": "be4137ad-0c6b-4232-b4dd-059a1c1cc253"
      },
      "outputs": [
        {
          "output_type": "stream",
          "name": "stdout",
          "text": [
            "x_train shape: (25000, 30)\n",
            "x_test shape: (25000, 30)\n"
          ]
        }
      ],
      "source": [
        "x_train = sequence.pad_sequences(x_train, maxlen=maxlen)\n",
        "x_test = sequence.pad_sequences(x_test, maxlen=maxlen)\n",
        "print('x_train shape:', x_train.shape)\n",
        "print('x_test shape:', x_test.shape)"
      ]
    },
    {
      "cell_type": "markdown",
      "source": [
        "Check the example of sequence"
      ],
      "metadata": {
        "id": "MrCRUzWIi4Mb"
      },
      "id": "MrCRUzWIi4Mb"
    },
    {
      "cell_type": "code",
      "execution_count": null,
      "id": "surprising-bacteria",
      "metadata": {
        "id": "surprising-bacteria",
        "colab": {
          "base_uri": "https://localhost:8080/"
        },
        "outputId": "5b27a8cb-e5e4-4f73-b28e-24cb759bcde7"
      },
      "outputs": [
        {
          "output_type": "execute_result",
          "data": {
            "text/plain": [
              "array([  219,   141,    35,   221,   956,    54,    13,    16,    11,\n",
              "        2714,    61,   322,   423,    12,    38,    76,    59,  1803,\n",
              "          72,     8, 10508,    23,     5,   967,    12,    38,    85,\n",
              "          62,   358,    99], dtype=int32)"
            ]
          },
          "metadata": {},
          "execution_count": 60
        }
      ],
      "source": [
        "x_train[123,:]"
      ]
    },
    {
      "cell_type": "markdown",
      "id": "quantitative-breath",
      "metadata": {
        "id": "quantitative-breath"
      },
      "source": [
        "Build a recurrent neural network"
      ]
    },
    {
      "cell_type": "code",
      "execution_count": null,
      "id": "closed-writer",
      "metadata": {
        "id": "closed-writer"
      },
      "outputs": [],
      "source": [
        "rnn_hidden_dim = 5\n",
        "word_embedding_dim = 50\n",
        "model_rnn = Sequential()\n",
        "model_rnn.add(Embedding(max_features, word_embedding_dim))  #This layer takes each integer in the sequence and embeds it in a 50-dimensional vector\n",
        "model_rnn.add(SimpleRNN(rnn_hidden_dim,\n",
        "                    kernel_initializer=initializers.RandomNormal(stddev=0.001),\n",
        "                    recurrent_initializer=initializers.Identity(gain=1.0),\n",
        "                    activation='relu',\n",
        "                    input_shape=x_train.shape[1:]))\n",
        "\n",
        "model_rnn.add(Dense(1, activation='sigmoid'))"
      ]
    },
    {
      "cell_type": "code",
      "execution_count": null,
      "id": "developmental-foster",
      "metadata": {
        "id": "developmental-foster"
      },
      "outputs": [],
      "source": [
        "rmsprop = keras.optimizers.RMSprop(learning_rate = .0001)\n",
        "\n",
        "model_rnn.compile(loss='binary_crossentropy',\n",
        "              optimizer=rmsprop,\n",
        "              metrics=['accuracy'])"
      ]
    },
    {
      "cell_type": "code",
      "execution_count": null,
      "id": "joined-athletics",
      "metadata": {
        "id": "joined-athletics",
        "colab": {
          "base_uri": "https://localhost:8080/"
        },
        "outputId": "aa49f64c-588d-49f4-b175-8fc99cde763d"
      },
      "outputs": [
        {
          "output_type": "stream",
          "name": "stdout",
          "text": [
            "Epoch 1/10\n",
            "782/782 [==============================] - 14s 16ms/step - loss: 0.6771 - accuracy: 0.5865 - val_loss: 0.6382 - val_accuracy: 0.6457\n",
            "Epoch 2/10\n",
            "782/782 [==============================] - 11s 14ms/step - loss: 0.5948 - accuracy: 0.6836 - val_loss: 0.5674 - val_accuracy: 0.7021\n",
            "Epoch 3/10\n",
            "782/782 [==============================] - 11s 14ms/step - loss: 0.5252 - accuracy: 0.7398 - val_loss: 0.5285 - val_accuracy: 0.7295\n",
            "Epoch 4/10\n",
            "782/782 [==============================] - 11s 14ms/step - loss: 0.4803 - accuracy: 0.7712 - val_loss: 0.5035 - val_accuracy: 0.7479\n",
            "Epoch 5/10\n",
            "782/782 [==============================] - 11s 14ms/step - loss: 0.4481 - accuracy: 0.7923 - val_loss: 0.4875 - val_accuracy: 0.7597\n",
            "Epoch 6/10\n",
            "782/782 [==============================] - 12s 15ms/step - loss: 0.4237 - accuracy: 0.8069 - val_loss: 0.4755 - val_accuracy: 0.7660\n",
            "Epoch 7/10\n",
            "782/782 [==============================] - 13s 16ms/step - loss: 0.4052 - accuracy: 0.8182 - val_loss: 0.4665 - val_accuracy: 0.7720\n",
            "Epoch 8/10\n",
            "782/782 [==============================] - 12s 15ms/step - loss: 0.3908 - accuracy: 0.8267 - val_loss: 0.4591 - val_accuracy: 0.7779\n",
            "Epoch 9/10\n",
            "782/782 [==============================] - 11s 14ms/step - loss: 0.3796 - accuracy: 0.8336 - val_loss: 0.4592 - val_accuracy: 0.7786\n",
            "Epoch 10/10\n",
            "782/782 [==============================] - 12s 15ms/step - loss: 0.3707 - accuracy: 0.8386 - val_loss: 0.4592 - val_accuracy: 0.7800\n"
          ]
        },
        {
          "output_type": "execute_result",
          "data": {
            "text/plain": [
              "<keras.src.callbacks.History at 0x7a537a903700>"
            ]
          },
          "metadata": {},
          "execution_count": 63
        }
      ],
      "source": [
        "model_rnn.fit(x_train, y_train,\n",
        "          batch_size=batch_size,\n",
        "          epochs=10,\n",
        "          validation_data=(x_test, y_test))"
      ]
    },
    {
      "cell_type": "markdown",
      "id": "freelance-proposal",
      "metadata": {
        "id": "freelance-proposal"
      },
      "source": [
        "Evaluate the model using the test set."
      ]
    },
    {
      "cell_type": "code",
      "execution_count": null,
      "id": "early-connecticut",
      "metadata": {
        "id": "early-connecticut",
        "colab": {
          "base_uri": "https://localhost:8080/"
        },
        "outputId": "9c4716c9-8083-41f8-d877-a59f8c1d72c1"
      },
      "outputs": [
        {
          "output_type": "stream",
          "name": "stdout",
          "text": [
            "782/782 [==============================] - 2s 3ms/step - loss: 0.4592 - accuracy: 0.7800\n",
            "Test score: 0.45921528339385986\n",
            "Test accuracy: 0.7799999713897705\n"
          ]
        }
      ],
      "source": [
        "score, acc = model_rnn.evaluate(x_test, y_test,\n",
        "                            batch_size=batch_size)\n",
        "print('Test score:', score)\n",
        "print('Test accuracy:', acc)"
      ]
    },
    {
      "cell_type": "markdown",
      "id": "miniature-generic",
      "metadata": {
        "id": "miniature-generic"
      },
      "source": [
        "Interpret the result"
      ]
    },
    {
      "cell_type": "markdown",
      "source": [
        "I think that this model still has a high testing loss score and should be optimized so that its testing loss score would be lowered and testing accuracy would be higher."
      ],
      "metadata": {
        "id": "wPCSA3gwjz77"
      },
      "id": "wPCSA3gwjz77"
    },
    {
      "cell_type": "markdown",
      "id": "planned-detection",
      "metadata": {
        "id": "planned-detection"
      },
      "source": [
        "#### Supplementary Activity"
      ]
    },
    {
      "cell_type": "markdown",
      "id": "industrial-frequency",
      "metadata": {
        "id": "industrial-frequency"
      },
      "source": [
        "- Prepare the data to use sequences of length 80 rather than length 30.  Did it improve the performance?\n",
        "- Try different values of the \"max_features\".  Can you improve the performance?\n",
        "- Try smaller and larger sizes of the RNN hidden dimension.  How does it affect the model performance?  How does it affect the run time?"
      ]
    },
    {
      "cell_type": "code",
      "execution_count": null,
      "id": "important-delight",
      "metadata": {
        "id": "important-delight",
        "colab": {
          "base_uri": "https://localhost:8080/"
        },
        "outputId": "46223ddd-3d72-44ca-fbae-8d6d573e6d54"
      },
      "outputs": [
        {
          "output_type": "stream",
          "name": "stdout",
          "text": [
            "x_train shape: (25000, 80)\n",
            "x_test shape: (25000, 80)\n"
          ]
        }
      ],
      "source": [
        "# Prepare the data to use sequences of length 80 rather than length 30. Did it improve the performance?\n",
        "\n",
        "x_train = sequence.pad_sequences(x_train, maxlen=80) # Use 80 instead of 30 for both the x_train\n",
        "x_test = sequence.pad_sequences(x_test, maxlen=80) # and x_test, then check if the performance improves\n",
        "print('x_train shape:', x_train.shape)\n",
        "print('x_test shape:', x_test.shape)"
      ]
    },
    {
      "cell_type": "code",
      "source": [
        "rnn_hidden_dim = 5\n",
        "word_embedding_dim = 50\n",
        "model_rnn = Sequential()\n",
        "model_rnn.add(Embedding(max_features, word_embedding_dim))  #This layer takes each integer in the sequence and embeds it in a 50-dimensional vector\n",
        "model_rnn.add(SimpleRNN(rnn_hidden_dim,\n",
        "                    kernel_initializer=initializers.RandomNormal(stddev=0.001),\n",
        "                    recurrent_initializer=initializers.Identity(gain=1.0),\n",
        "                    activation='relu',\n",
        "                    input_shape=x_train.shape[1:]))\n",
        "\n",
        "model_rnn.add(Dense(1, activation='sigmoid'))"
      ],
      "metadata": {
        "id": "bumpR1CEkNm2"
      },
      "id": "bumpR1CEkNm2",
      "execution_count": null,
      "outputs": []
    },
    {
      "cell_type": "code",
      "source": [
        "rmsprop = keras.optimizers.RMSprop(learning_rate = .0001)\n",
        "\n",
        "model_rnn.compile(loss='binary_crossentropy',\n",
        "              optimizer=rmsprop,\n",
        "              metrics=['accuracy'])\n",
        "\n",
        "model_rnn.fit(x_train, y_train,\n",
        "          batch_size=batch_size,\n",
        "          epochs=10,\n",
        "          validation_data=(x_test, y_test))"
      ],
      "metadata": {
        "colab": {
          "base_uri": "https://localhost:8080/"
        },
        "id": "u7YM7Kz6kWgC",
        "outputId": "310b7fb8-ea68-4a8d-d6ea-b19dbabadfd5"
      },
      "id": "u7YM7Kz6kWgC",
      "execution_count": null,
      "outputs": [
        {
          "output_type": "stream",
          "name": "stdout",
          "text": [
            "Epoch 1/10\n",
            "782/782 [==============================] - 23s 28ms/step - loss: 0.6915 - accuracy: 0.5120 - val_loss: 0.6868 - val_accuracy: 0.5098\n",
            "Epoch 2/10\n",
            "782/782 [==============================] - 20s 25ms/step - loss: 0.6686 - accuracy: 0.5781 - val_loss: 0.6397 - val_accuracy: 0.6552\n",
            "Epoch 3/10\n",
            "782/782 [==============================] - 21s 27ms/step - loss: 0.5918 - accuracy: 0.6999 - val_loss: 0.5655 - val_accuracy: 0.7113\n",
            "Epoch 4/10\n",
            "782/782 [==============================] - 21s 27ms/step - loss: 0.5345 - accuracy: 0.7326 - val_loss: 0.5501 - val_accuracy: 0.7095\n",
            "Epoch 5/10\n",
            "782/782 [==============================] - 21s 27ms/step - loss: 0.4971 - accuracy: 0.7597 - val_loss: 0.5133 - val_accuracy: 0.7452\n",
            "Epoch 6/10\n",
            "782/782 [==============================] - 21s 27ms/step - loss: 0.4693 - accuracy: 0.7801 - val_loss: 0.4995 - val_accuracy: 0.7572\n",
            "Epoch 7/10\n",
            "782/782 [==============================] - 22s 28ms/step - loss: 0.4466 - accuracy: 0.7940 - val_loss: 0.4960 - val_accuracy: 0.7539\n",
            "Epoch 8/10\n",
            "782/782 [==============================] - 21s 27ms/step - loss: 0.4290 - accuracy: 0.8032 - val_loss: 0.4761 - val_accuracy: 0.7713\n",
            "Epoch 9/10\n",
            "782/782 [==============================] - 20s 25ms/step - loss: 0.4133 - accuracy: 0.8137 - val_loss: 0.4859 - val_accuracy: 0.7687\n",
            "Epoch 10/10\n",
            "782/782 [==============================] - 20s 26ms/step - loss: 0.4010 - accuracy: 0.8197 - val_loss: 0.4732 - val_accuracy: 0.7730\n"
          ]
        },
        {
          "output_type": "execute_result",
          "data": {
            "text/plain": [
              "<keras.src.callbacks.History at 0x7a538168f5e0>"
            ]
          },
          "metadata": {},
          "execution_count": 67
        }
      ]
    },
    {
      "cell_type": "code",
      "source": [
        "score, acc = model_rnn.evaluate(x_test, y_test,\n",
        "                            batch_size=batch_size)\n",
        "print('Test score:', score*100)\n",
        "print('Test accuracy:', acc*100)"
      ],
      "metadata": {
        "colab": {
          "base_uri": "https://localhost:8080/"
        },
        "id": "MmkXPP9RlkWw",
        "outputId": "49a82705-56ff-4062-e5ca-6c5804ceec92"
      },
      "id": "MmkXPP9RlkWw",
      "execution_count": null,
      "outputs": [
        {
          "output_type": "stream",
          "name": "stdout",
          "text": [
            "782/782 [==============================] - 4s 5ms/step - loss: 0.4732 - accuracy: 0.7730\n",
            "Test score: 47.31633961200714\n",
            "Test accuracy: 77.30399966239929\n"
          ]
        }
      ]
    },
    {
      "cell_type": "markdown",
      "source": [
        "There is not much of a difference on the test loss score and test accuracy results between using 30 or 80 as the lengths of 'maxlen'."
      ],
      "metadata": {
        "id": "oHkOA4T8lC0w"
      },
      "id": "oHkOA4T8lC0w"
    },
    {
      "cell_type": "markdown",
      "source": [
        "\n",
        "\n",
        "---\n",
        "\n"
      ],
      "metadata": {
        "id": "GDJsnSj17CTU"
      },
      "id": "GDJsnSj17CTU"
    },
    {
      "cell_type": "code",
      "source": [
        "# Try different values of the \"max_features\". Can you improve the performance?\n",
        "\n",
        "(x_train, y_train), (x_test, y_test) = imdb.load_data(num_words=4000) # We'll try to use the values 500, 1000, and 4000.\n",
        "print(len(x_train), 'train sequences')\n",
        "print(len(x_test), 'test sequences')"
      ],
      "metadata": {
        "colab": {
          "base_uri": "https://localhost:8080/"
        },
        "id": "lIWXpehplDYK",
        "outputId": "ee5aaf8b-869f-42e7-beaa-b79130e91223"
      },
      "id": "lIWXpehplDYK",
      "execution_count": null,
      "outputs": [
        {
          "output_type": "stream",
          "name": "stdout",
          "text": [
            "25000 train sequences\n",
            "25000 test sequences\n"
          ]
        }
      ]
    },
    {
      "cell_type": "markdown",
      "source": [
        "For this part, we'll try to use 50 as the value for 'maxlen'"
      ],
      "metadata": {
        "id": "r0LAmJNrr5tk"
      },
      "id": "r0LAmJNrr5tk"
    },
    {
      "cell_type": "code",
      "source": [
        "x_train = sequence.pad_sequences(x_train, maxlen=50) # maxlen=50 for x_train\n",
        "x_test = sequence.pad_sequences(x_test, maxlen=50) # also maxlen=50 for x_test\n",
        "print('x_train shape:', x_train.shape)\n",
        "print('x_test shape:', x_test.shape)"
      ],
      "metadata": {
        "colab": {
          "base_uri": "https://localhost:8080/"
        },
        "id": "4QjdTSDHmn09",
        "outputId": "7c486d28-489a-46ad-85d4-1e2af5200a81"
      },
      "id": "4QjdTSDHmn09",
      "execution_count": null,
      "outputs": [
        {
          "output_type": "stream",
          "name": "stdout",
          "text": [
            "x_train shape: (25000, 50)\n",
            "x_test shape: (25000, 50)\n"
          ]
        }
      ]
    },
    {
      "cell_type": "code",
      "source": [
        "rnn_hidden_dim = 5\n",
        "word_embedding_dim = 50\n",
        "model_rnn = Sequential()\n",
        "model_rnn.add(Embedding(max_features, word_embedding_dim))  #This layer takes each integer in the sequence and embeds it in a 50-dimensional vector\n",
        "model_rnn.add(SimpleRNN(rnn_hidden_dim,\n",
        "                    kernel_initializer=initializers.RandomNormal(stddev=0.001),\n",
        "                    recurrent_initializer=initializers.Identity(gain=1.0),\n",
        "                    activation='relu',\n",
        "                    input_shape=x_train.shape[1:]))\n",
        "\n",
        "model_rnn.add(Dense(1, activation='sigmoid'))"
      ],
      "metadata": {
        "id": "FcN23tevsJrl"
      },
      "id": "FcN23tevsJrl",
      "execution_count": null,
      "outputs": []
    },
    {
      "cell_type": "code",
      "source": [
        "rmsprop = keras.optimizers.RMSprop(learning_rate = .0001)\n",
        "\n",
        "model_rnn.compile(loss='binary_crossentropy',\n",
        "              optimizer=rmsprop,\n",
        "              metrics=['accuracy'])\n",
        "\n",
        "model_rnn.fit(x_train, y_train,\n",
        "          batch_size=batch_size,\n",
        "          epochs=10,\n",
        "          validation_data=(x_test, y_test))"
      ],
      "metadata": {
        "colab": {
          "base_uri": "https://localhost:8080/"
        },
        "id": "MRC4_bbzsdX-",
        "outputId": "acedd7fc-ab2a-42c8-fe6b-1bdd8f95182d"
      },
      "id": "MRC4_bbzsdX-",
      "execution_count": null,
      "outputs": [
        {
          "output_type": "stream",
          "name": "stdout",
          "text": [
            "Epoch 1/10\n",
            "782/782 [==============================] - 17s 19ms/step - loss: 0.6532 - accuracy: 0.6180 - val_loss: 0.5799 - val_accuracy: 0.7022\n",
            "Epoch 2/10\n",
            "782/782 [==============================] - 19s 24ms/step - loss: 0.5353 - accuracy: 0.7339 - val_loss: 0.5117 - val_accuracy: 0.7476\n",
            "Epoch 3/10\n",
            "782/782 [==============================] - 18s 23ms/step - loss: 0.4747 - accuracy: 0.7728 - val_loss: 0.4760 - val_accuracy: 0.7716\n",
            "Epoch 4/10\n",
            "782/782 [==============================] - 19s 24ms/step - loss: 0.4365 - accuracy: 0.7971 - val_loss: 0.4494 - val_accuracy: 0.7868\n",
            "Epoch 5/10\n",
            "782/782 [==============================] - 18s 22ms/step - loss: 0.4092 - accuracy: 0.8137 - val_loss: 0.4318 - val_accuracy: 0.7985\n",
            "Epoch 6/10\n",
            "782/782 [==============================] - 21s 27ms/step - loss: 0.3900 - accuracy: 0.8238 - val_loss: 0.4218 - val_accuracy: 0.8045\n",
            "Epoch 7/10\n",
            "782/782 [==============================] - 16s 21ms/step - loss: 0.3758 - accuracy: 0.8330 - val_loss: 0.4200 - val_accuracy: 0.8046\n",
            "Epoch 8/10\n",
            "782/782 [==============================] - 15s 19ms/step - loss: 0.3661 - accuracy: 0.8368 - val_loss: 0.4073 - val_accuracy: 0.8120\n",
            "Epoch 9/10\n",
            "782/782 [==============================] - 15s 19ms/step - loss: 0.3583 - accuracy: 0.8404 - val_loss: 0.4057 - val_accuracy: 0.8138\n",
            "Epoch 10/10\n",
            "782/782 [==============================] - 15s 19ms/step - loss: 0.3528 - accuracy: 0.8449 - val_loss: 0.4032 - val_accuracy: 0.8162\n"
          ]
        },
        {
          "output_type": "execute_result",
          "data": {
            "text/plain": [
              "<keras.src.callbacks.History at 0x7a53816d6d70>"
            ]
          },
          "metadata": {},
          "execution_count": 72
        }
      ]
    },
    {
      "cell_type": "code",
      "source": [
        "score, acc = model_rnn.evaluate(x_test, y_test,\n",
        "                            batch_size=batch_size)\n",
        "print('Test score:', score*100)\n",
        "print('Test accuracy:', acc*100)"
      ],
      "metadata": {
        "colab": {
          "base_uri": "https://localhost:8080/"
        },
        "id": "j5n3AoG8se28",
        "outputId": "42d3f537-4b71-4c3d-ee07-229952dfa819"
      },
      "id": "j5n3AoG8se28",
      "execution_count": null,
      "outputs": [
        {
          "output_type": "stream",
          "name": "stdout",
          "text": [
            "782/782 [==============================] - 3s 4ms/step - loss: 0.4032 - accuracy: 0.8162\n",
            "Test score: 40.31747579574585\n",
            "Test accuracy: 81.61600232124329\n"
          ]
        }
      ]
    },
    {
      "cell_type": "markdown",
      "source": [
        "Using 'maxlen=50' and 4000 as the value for 'max_features' yielded good results, with a test loss score of 40 percent and a test accuracy of 81 percent."
      ],
      "metadata": {
        "id": "3BQ-95Jww8mz"
      },
      "id": "3BQ-95Jww8mz"
    },
    {
      "cell_type": "markdown",
      "source": [
        "\n",
        "\n",
        "---\n",
        "\n"
      ],
      "metadata": {
        "id": "giTS_oIL6-4d"
      },
      "id": "giTS_oIL6-4d"
    },
    {
      "cell_type": "code",
      "source": [
        "# Try smaller and larger sizes of the RNN hidden dimension. How does it affect the model performance? How does it affect the run time?\n",
        "\n",
        "(x_train, y_train), (x_test, y_test) = imdb.load_data(num_words=4000)\n",
        "print(len(x_train), 'train sequences')\n",
        "print(len(x_test), 'test sequences')"
      ],
      "metadata": {
        "colab": {
          "base_uri": "https://localhost:8080/"
        },
        "id": "irltWoq5yCrv",
        "outputId": "c1a6544b-aac7-4880-fe83-79a82a174715"
      },
      "id": "irltWoq5yCrv",
      "execution_count": null,
      "outputs": [
        {
          "output_type": "stream",
          "name": "stdout",
          "text": [
            "25000 train sequences\n",
            "25000 test sequences\n"
          ]
        }
      ]
    },
    {
      "cell_type": "code",
      "source": [
        "x_train = sequence.pad_sequences(x_train, maxlen=50)\n",
        "x_test = sequence.pad_sequences(x_test, maxlen=50)\n",
        "print('x_train shape:', x_train.shape)\n",
        "print('x_test shape:', x_test.shape)"
      ],
      "metadata": {
        "colab": {
          "base_uri": "https://localhost:8080/"
        },
        "id": "KX3vaTWKyR1f",
        "outputId": "80eae907-72db-4b48-8caf-c27f3b1fac46"
      },
      "id": "KX3vaTWKyR1f",
      "execution_count": null,
      "outputs": [
        {
          "output_type": "stream",
          "name": "stdout",
          "text": [
            "x_train shape: (25000, 50)\n",
            "x_test shape: (25000, 50)\n"
          ]
        }
      ]
    },
    {
      "cell_type": "code",
      "source": [
        "rnn_hidden_dim = 10 # We'll try using 2, 10, and 15 as the values\n",
        "word_embedding_dim = 50\n",
        "model_rnn = Sequential()\n",
        "model_rnn.add(Embedding(max_features, word_embedding_dim))  #This layer takes each integer in the sequence and embeds it in a 50-dimensional vector\n",
        "model_rnn.add(SimpleRNN(rnn_hidden_dim,\n",
        "                    kernel_initializer=initializers.RandomNormal(stddev=0.001),\n",
        "                    recurrent_initializer=initializers.Identity(gain=1.0),\n",
        "                    activation='relu',\n",
        "                    input_shape=x_train.shape[1:]))\n",
        "\n",
        "model_rnn.add(Dense(1, activation='sigmoid'))"
      ],
      "metadata": {
        "id": "PwtN-DsIyTLi"
      },
      "id": "PwtN-DsIyTLi",
      "execution_count": null,
      "outputs": []
    },
    {
      "cell_type": "code",
      "source": [
        "rmsprop = keras.optimizers.RMSprop(learning_rate = .0001)\n",
        "\n",
        "model_rnn.compile(loss='binary_crossentropy',\n",
        "              optimizer=rmsprop,\n",
        "              metrics=['accuracy'])\n",
        "\n",
        "model_rnn.fit(x_train, y_train,\n",
        "          batch_size=batch_size,\n",
        "          epochs=10,\n",
        "          validation_data=(x_test, y_test))"
      ],
      "metadata": {
        "colab": {
          "base_uri": "https://localhost:8080/"
        },
        "id": "2IDFmFrV1dHx",
        "outputId": "281afabf-59fb-4440-cb99-8bce392241ad"
      },
      "id": "2IDFmFrV1dHx",
      "execution_count": null,
      "outputs": [
        {
          "output_type": "stream",
          "name": "stdout",
          "text": [
            "Epoch 1/10\n",
            "782/782 [==============================] - 21s 26ms/step - loss: 0.6559 - accuracy: 0.6059 - val_loss: 0.6017 - val_accuracy: 0.6746\n",
            "Epoch 2/10\n",
            "782/782 [==============================] - 19s 24ms/step - loss: 0.5461 - accuracy: 0.7216 - val_loss: 0.5198 - val_accuracy: 0.7382\n",
            "Epoch 3/10\n",
            "782/782 [==============================] - 19s 24ms/step - loss: 0.4809 - accuracy: 0.7725 - val_loss: 0.4814 - val_accuracy: 0.7709\n",
            "Epoch 4/10\n",
            "782/782 [==============================] - 17s 21ms/step - loss: 0.4392 - accuracy: 0.7973 - val_loss: 0.4543 - val_accuracy: 0.7840\n",
            "Epoch 5/10\n",
            "782/782 [==============================] - 15s 19ms/step - loss: 0.4111 - accuracy: 0.8120 - val_loss: 0.4497 - val_accuracy: 0.7874\n",
            "Epoch 6/10\n",
            "782/782 [==============================] - 18s 23ms/step - loss: 0.3912 - accuracy: 0.8265 - val_loss: 0.4365 - val_accuracy: 0.7944\n",
            "Epoch 7/10\n",
            "782/782 [==============================] - 15s 19ms/step - loss: 0.3773 - accuracy: 0.8336 - val_loss: 0.4146 - val_accuracy: 0.8080\n",
            "Epoch 8/10\n",
            "782/782 [==============================] - 16s 20ms/step - loss: 0.3671 - accuracy: 0.8373 - val_loss: 0.4173 - val_accuracy: 0.8092\n",
            "Epoch 9/10\n",
            "782/782 [==============================] - 18s 23ms/step - loss: 0.3583 - accuracy: 0.8421 - val_loss: 0.4072 - val_accuracy: 0.8142\n",
            "Epoch 10/10\n",
            "782/782 [==============================] - 16s 20ms/step - loss: 0.3518 - accuracy: 0.8446 - val_loss: 0.4043 - val_accuracy: 0.8150\n"
          ]
        },
        {
          "output_type": "execute_result",
          "data": {
            "text/plain": [
              "<keras.src.callbacks.History at 0x7a537dd9ae30>"
            ]
          },
          "metadata": {},
          "execution_count": 86
        }
      ]
    },
    {
      "cell_type": "code",
      "source": [
        "score, acc = model_rnn.evaluate(x_test, y_test,\n",
        "                            batch_size=batch_size)\n",
        "print('Test score:', score*100)\n",
        "print('Test accuracy:', acc*100)"
      ],
      "metadata": {
        "colab": {
          "base_uri": "https://localhost:8080/"
        },
        "id": "rJjox4VF1fUz",
        "outputId": "816eb6c7-66f3-4a2e-c4fe-903ca248694c"
      },
      "id": "rJjox4VF1fUz",
      "execution_count": null,
      "outputs": [
        {
          "output_type": "stream",
          "name": "stdout",
          "text": [
            "782/782 [==============================] - 3s 4ms/step - loss: 0.4043 - accuracy: 0.8150\n",
            "Test score: 40.43429791927338\n",
            "Test accuracy: 81.49600028991699\n"
          ]
        }
      ]
    },
    {
      "cell_type": "markdown",
      "source": [
        "There is not much of the difference between the results when changing the rnn_hidden_dim from 2, 5, 10, and 15, but the one which shows the highest is the value 10."
      ],
      "metadata": {
        "id": "H-lpkR8z4Cz-"
      },
      "id": "H-lpkR8z4Cz-"
    },
    {
      "cell_type": "markdown",
      "id": "signal-federal",
      "metadata": {
        "id": "signal-federal"
      },
      "source": [
        "#### Conclusion"
      ]
    },
    {
      "cell_type": "markdown",
      "source": [
        "In this activity we learned all about creating a Recurrent Neural Network from scratch, training and testing it using the IMDb dataset from the keras.datasets library. We were taught on how modifying values on certain variables such as maxlen, max_features, and rnn_hidden_dim, affect the performance and efficiency of the model, which can be measured through looking at the test score and accuracy results."
      ],
      "metadata": {
        "id": "iKp93NnMlBiM"
      },
      "id": "iKp93NnMlBiM"
    }
  ],
  "metadata": {
    "kernelspec": {
      "display_name": "Python 3",
      "language": "python",
      "name": "python3"
    },
    "language_info": {
      "codemirror_mode": {
        "name": "ipython",
        "version": 3
      },
      "file_extension": ".py",
      "mimetype": "text/x-python",
      "name": "python",
      "nbconvert_exporter": "python",
      "pygments_lexer": "ipython3",
      "version": "3.7.10"
    },
    "colab": {
      "provenance": []
    }
  },
  "nbformat": 4,
  "nbformat_minor": 5
}