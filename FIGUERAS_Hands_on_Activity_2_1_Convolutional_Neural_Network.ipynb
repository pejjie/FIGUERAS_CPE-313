{
  "cells": [
    {
      "cell_type": "markdown",
      "metadata": {
        "id": "historic-trainer"
      },
      "source": [
        "# Activity 2.1 : Convolutional Neural Network"
      ],
      "id": "historic-trainer"
    },
    {
      "cell_type": "markdown",
      "metadata": {
        "id": "olive-manner"
      },
      "source": [
        "#### Objective(s):\n",
        "\n",
        "This activity aims to introduce how to build a convolutional neural network"
      ],
      "id": "olive-manner"
    },
    {
      "cell_type": "markdown",
      "metadata": {
        "id": "happy-transport"
      },
      "source": [
        "#### Intended Learning Outcomes (ILOs):\n",
        "* Demonstrate how to build and train convolutional neural network\n",
        "* Evaluate the accuracy and loss of the model using convolutional neural network"
      ],
      "id": "happy-transport"
    },
    {
      "cell_type": "markdown",
      "metadata": {
        "id": "leading-providence"
      },
      "source": [
        "#### Resources:\n",
        "* Jupyter Notebook\n",
        "* CIFAR-10 dataset"
      ],
      "id": "leading-providence"
    },
    {
      "cell_type": "markdown",
      "metadata": {
        "id": "literary-trail"
      },
      "source": [
        "#### Procedures\n",
        "Load the necessary libraries"
      ],
      "id": "literary-trail"
    },
    {
      "cell_type": "code",
      "execution_count": null,
      "metadata": {
        "id": "stretch-active"
      },
      "outputs": [],
      "source": [
        "from __future__ import print_function\n",
        "import keras\n",
        "from keras.datasets import cifar10\n",
        "from keras.preprocessing.image import ImageDataGenerator\n",
        "from keras.models import Sequential\n",
        "from keras.layers import Dense, Dropout, Activation, Flatten\n",
        "from keras.layers import Conv2D, MaxPooling2D\n",
        "\n",
        "import matplotlib.pyplot as plt\n",
        "%matplotlib inline"
      ],
      "id": "stretch-active"
    },
    {
      "cell_type": "markdown",
      "metadata": {
        "id": "collaborative-seating"
      },
      "source": [
        "* Shuffle the data\n",
        "* Split the data into train and test sets"
      ],
      "id": "collaborative-seating"
    },
    {
      "cell_type": "code",
      "execution_count": null,
      "metadata": {
        "colab": {
          "base_uri": "https://localhost:8080/"
        },
        "id": "modular-springer",
        "outputId": "320b86b7-60aa-4732-859c-d15d819ef6bd"
      },
      "outputs": [
        {
          "output_type": "stream",
          "name": "stdout",
          "text": [
            "x_train shape: (50000, 32, 32, 3)\n",
            "50000 train samples\n",
            "10000 test samples\n"
          ]
        }
      ],
      "source": [
        "(x_train, y_train), (x_test, y_test) = cifar10.load_data()\n",
        "print('x_train shape:', x_train.shape)\n",
        "print(x_train.shape[0], 'train samples')\n",
        "print(x_test.shape[0], 'test samples')"
      ],
      "id": "modular-springer"
    },
    {
      "cell_type": "markdown",
      "metadata": {
        "id": "female-carolina"
      },
      "source": [
        "Check the image size"
      ],
      "id": "female-carolina"
    },
    {
      "cell_type": "code",
      "execution_count": null,
      "metadata": {
        "colab": {
          "base_uri": "https://localhost:8080/"
        },
        "id": "alleged-stephen",
        "outputId": "31fc3180-7641-45ec-d9d5-888ab57d4d68"
      },
      "outputs": [
        {
          "output_type": "execute_result",
          "data": {
            "text/plain": [
              "(32, 32, 3)"
            ]
          },
          "metadata": {},
          "execution_count": 28
        }
      ],
      "source": [
        "\n",
        "x_train[444].shape"
      ],
      "id": "alleged-stephen"
    },
    {
      "cell_type": "markdown",
      "metadata": {
        "id": "conscious-twenty"
      },
      "source": [
        "Visualize one of the images"
      ],
      "id": "conscious-twenty"
    },
    {
      "cell_type": "code",
      "execution_count": null,
      "metadata": {
        "colab": {
          "base_uri": "https://localhost:8080/",
          "height": 447
        },
        "id": "positive-creation",
        "outputId": "86895465-c2ec-4b46-d41b-5f2621da1e21"
      },
      "outputs": [
        {
          "output_type": "stream",
          "name": "stdout",
          "text": [
            "[9]\n"
          ]
        },
        {
          "output_type": "display_data",
          "data": {
            "text/plain": [
              "<Figure size 640x480 with 1 Axes>"
            ],
            "image/png": "[encoded data removed]"
          },
          "metadata": {}
        }
      ],
      "source": [
        "print(y_train[444])\n",
        "plt.imshow(x_train[444]);"
      ],
      "id": "positive-creation"
    },
    {
      "cell_type": "code",
      "execution_count": null,
      "metadata": {
        "id": "animated-rotation"
      },
      "outputs": [],
      "source": [
        "num_classes = 10\n",
        "\n",
        "y_train = keras.utils.to_categorical(y_train, num_classes)\n",
        "y_test = keras.utils.to_categorical(y_test, num_classes)"
      ],
      "id": "animated-rotation"
    },
    {
      "cell_type": "markdown",
      "metadata": {
        "id": "severe-filing"
      },
      "source": [
        "Instead of classes described by an integer between 0-9 we have a vector with a 1 in the (Pythonic) 9th position"
      ],
      "id": "severe-filing"
    },
    {
      "cell_type": "code",
      "execution_count": null,
      "metadata": {
        "colab": {
          "base_uri": "https://localhost:8080/"
        },
        "id": "genetic-centre",
        "outputId": "43712423-dda8-4fa2-faca-e24ae3487689"
      },
      "outputs": [
        {
          "output_type": "execute_result",
          "data": {
            "text/plain": [
              "array([0., 0., 0., 0., 0., 0., 0., 0., 0., 1.], dtype=float32)"
            ]
          },
          "metadata": {},
          "execution_count": 31
        }
      ],
      "source": [
        "y_train[444]"
      ],
      "id": "genetic-centre"
    },
    {
      "cell_type": "markdown",
      "metadata": {
        "id": "detected-education"
      },
      "source": [
        "Convert to float and scale the datasets"
      ],
      "id": "detected-education"
    },
    {
      "cell_type": "code",
      "execution_count": null,
      "metadata": {
        "id": "familiar-damages"
      },
      "outputs": [],
      "source": [
        "x_train = x_train.astype('float32')\n",
        "x_test = x_test.astype('float32')\n",
        "x_train /= 255\n",
        "x_test /= 255"
      ],
      "id": "familiar-damages"
    },
    {
      "cell_type": "markdown",
      "metadata": {
        "id": "bizarre-smith"
      },
      "source": [
        "Build a CNN using Keras Sequential"
      ],
      "id": "bizarre-smith"
    },
    {
      "cell_type": "code",
      "execution_count": null,
      "metadata": {
        "colab": {
          "base_uri": "https://localhost:8080/"
        },
        "id": "understanding-milan",
        "outputId": "f074037c-2b6b-44fc-f2cd-011fa30e7faa"
      },
      "outputs": [
        {
          "output_type": "stream",
          "name": "stdout",
          "text": [
            "Model: \"sequential_3\"\n",
            "_________________________________________________________________\n",
            " Layer (type)                Output Shape              Param #   \n",
            "=================================================================\n",
            " conv2d_10 (Conv2D)          (None, 16, 16, 32)        2432      \n",
            "                                                                 \n",
            " activation_16 (Activation)  (None, 16, 16, 32)        0         \n",
            "                                                                 \n",
            " conv2d_11 (Conv2D)          (None, 6, 6, 32)          25632     \n",
            "                                                                 \n",
            " activation_17 (Activation)  (None, 6, 6, 32)          0         \n",
            "                                                                 \n",
            " max_pooling2d_5 (MaxPoolin  (None, 3, 3, 32)          0         \n",
            " g2D)                                                            \n",
            "                                                                 \n",
            " dropout_8 (Dropout)         (None, 3, 3, 32)          0         \n",
            "                                                                 \n",
            " flatten_3 (Flatten)         (None, 288)               0         \n",
            "                                                                 \n",
            " dense_6 (Dense)             (None, 512)               147968    \n",
            "                                                                 \n",
            " activation_18 (Activation)  (None, 512)               0         \n",
            "                                                                 \n",
            " dropout_9 (Dropout)         (None, 512)               0         \n",
            "                                                                 \n",
            " dense_7 (Dense)             (None, 10)                5130      \n",
            "                                                                 \n",
            " activation_19 (Activation)  (None, 10)                0         \n",
            "                                                                 \n",
            "=================================================================\n",
            "Total params: 181162 (707.66 KB)\n",
            "Trainable params: 181162 (707.66 KB)\n",
            "Non-trainable params: 0 (0.00 Byte)\n",
            "_________________________________________________________________\n"
          ]
        }
      ],
      "source": [
        "\n",
        "model_1 = Sequential()\n",
        "\n",
        "## 5x5 convolution with 2x2 stride and 32 filters\n",
        "model_1.add(Conv2D(32, (5, 5), strides = (2,2), padding='same',\n",
        "                 input_shape=x_train.shape[1:]))\n",
        "model_1.add(Activation('relu'))\n",
        "\n",
        "## Another 5x5 convolution with 2x2 stride and 32 filters\n",
        "model_1.add(Conv2D(32, (5, 5), strides = (2,2)))\n",
        "model_1.add(Activation('relu'))\n",
        "\n",
        "## 2x2 max pooling reduces to 3 x 3 x 32\n",
        "model_1.add(MaxPooling2D(pool_size=(2, 2)))\n",
        "model_1.add(Dropout(0.25))\n",
        "\n",
        "## Flatten turns 3x3x32 into 288x1\n",
        "model_1.add(Flatten())\n",
        "model_1.add(Dense(512))\n",
        "model_1.add(Activation('relu'))\n",
        "model_1.add(Dropout(0.5))\n",
        "model_1.add(Dense(num_classes))\n",
        "model_1.add(Activation('softmax'))\n",
        "\n",
        "model_1.summary()"
      ],
      "id": "understanding-milan"
    },
    {
      "cell_type": "markdown",
      "metadata": {
        "id": "baking-portable"
      },
      "source": [
        "* Use batch size of 32\n",
        "* Initiate RMSprop optimizer\n",
        "* Train the model using RMSprop"
      ],
      "id": "baking-portable"
    },
    {
      "cell_type": "code",
      "execution_count": null,
      "metadata": {
        "colab": {
          "base_uri": "https://localhost:8080/"
        },
        "id": "removed-memorial",
        "outputId": "ce183d50-4c46-410c-9ce6-f1c36b9f9d35"
      },
      "outputs": [
        {
          "output_type": "stream",
          "name": "stderr",
          "text": [
            "WARNING:absl:`lr` is deprecated in Keras optimizer, please use `learning_rate` or use the legacy optimizer, e.g.,tf.keras.optimizers.legacy.RMSprop.\n"
          ]
        },
        {
          "output_type": "stream",
          "name": "stdout",
          "text": [
            "Epoch 1/15\n",
            "1563/1563 [==============================] - 38s 24ms/step - loss: 1.7070 - accuracy: 0.3813 - val_loss: 1.4198 - val_accuracy: 0.4908\n",
            "Epoch 2/15\n",
            "1563/1563 [==============================] - 36s 23ms/step - loss: 1.4466 - accuracy: 0.4830 - val_loss: 1.3763 - val_accuracy: 0.5165\n",
            "Epoch 3/15\n",
            "1563/1563 [==============================] - 38s 24ms/step - loss: 1.3637 - accuracy: 0.5166 - val_loss: 1.2421 - val_accuracy: 0.5595\n",
            "Epoch 4/15\n",
            "1563/1563 [==============================] - 36s 23ms/step - loss: 1.3162 - accuracy: 0.5396 - val_loss: 1.2548 - val_accuracy: 0.5683\n",
            "Epoch 5/15\n",
            "1563/1563 [==============================] - 36s 23ms/step - loss: 1.2840 - accuracy: 0.5508 - val_loss: 1.2565 - val_accuracy: 0.5706\n",
            "Epoch 6/15\n",
            "1563/1563 [==============================] - 35s 22ms/step - loss: 1.2724 - accuracy: 0.5619 - val_loss: 1.2793 - val_accuracy: 0.5612\n",
            "Epoch 7/15\n",
            "1563/1563 [==============================] - 36s 23ms/step - loss: 1.2577 - accuracy: 0.5666 - val_loss: 1.1722 - val_accuracy: 0.5985\n",
            "Epoch 8/15\n",
            "1563/1563 [==============================] - 37s 24ms/step - loss: 1.2648 - accuracy: 0.5643 - val_loss: 1.1232 - val_accuracy: 0.6144\n",
            "Epoch 9/15\n",
            "1563/1563 [==============================] - 35s 22ms/step - loss: 1.2632 - accuracy: 0.5687 - val_loss: 1.1531 - val_accuracy: 0.5972\n",
            "Epoch 10/15\n",
            "1563/1563 [==============================] - 36s 23ms/step - loss: 1.2526 - accuracy: 0.5749 - val_loss: 1.3593 - val_accuracy: 0.5671\n",
            "Epoch 11/15\n",
            "1563/1563 [==============================] - 36s 23ms/step - loss: 1.2551 - accuracy: 0.5747 - val_loss: 1.2822 - val_accuracy: 0.5635\n",
            "Epoch 12/15\n",
            "1563/1563 [==============================] - 36s 23ms/step - loss: 1.2704 - accuracy: 0.5714 - val_loss: 1.2619 - val_accuracy: 0.5743\n",
            "Epoch 13/15\n",
            "1563/1563 [==============================] - 35s 23ms/step - loss: 1.2721 - accuracy: 0.5706 - val_loss: 1.3813 - val_accuracy: 0.5557\n",
            "Epoch 14/15\n",
            "1563/1563 [==============================] - 36s 23ms/step - loss: 1.2882 - accuracy: 0.5704 - val_loss: 1.2021 - val_accuracy: 0.6100\n",
            "Epoch 15/15\n",
            "1563/1563 [==============================] - 36s 23ms/step - loss: 1.2870 - accuracy: 0.5676 - val_loss: 1.5380 - val_accuracy: 0.4830\n"
          ]
        },
        {
          "output_type": "execute_result",
          "data": {
            "text/plain": [
              "<keras.src.callbacks.History at 0x7c50751058a0>"
            ]
          },
          "metadata": {},
          "execution_count": 34
        }
      ],
      "source": [
        "batch_size = 32\n",
        "\n",
        "opt = keras.optimizers.RMSprop(lr=0.0005)\n",
        "\n",
        "\n",
        "model_1.compile(loss='categorical_crossentropy',\n",
        "              optimizer=opt,\n",
        "              metrics=['accuracy'])\n",
        "\n",
        "model_1.fit(x_train, y_train,\n",
        "              batch_size=batch_size,\n",
        "              epochs=15,\n",
        "              validation_data=(x_test, y_test))"
      ],
      "id": "removed-memorial"
    },
    {
      "cell_type": "code",
      "execution_count": null,
      "metadata": {
        "colab": {
          "base_uri": "https://localhost:8080/"
        },
        "id": "SqSFnEUMDQgr",
        "outputId": "eaf49459-1c4a-4082-962d-af9f3c347f61"
      },
      "outputs": [
        {
          "output_type": "stream",
          "name": "stdout",
          "text": [
            "Test loss: 1.5379689931869507\n",
            "Test accuracy: 0.4830000102519989\n"
          ]
        }
      ],
      "source": [
        "score = model_1.evaluate(x_test, y_test, verbose=0)\n",
        "print('Test loss:', score[0])\n",
        "print('Test accuracy:', score[1])"
      ],
      "id": "SqSFnEUMDQgr"
    },
    {
      "cell_type": "markdown",
      "metadata": {
        "id": "jewish-lambda"
      },
      "source": [
        "#### Supplementary Activity"
      ],
      "id": "jewish-lambda"
    },
    {
      "cell_type": "markdown",
      "metadata": {
        "id": "southeast-theater"
      },
      "source": [
        "* Build a more complicated model with the following pattern:\n",
        "Conv -> Conv -> MaxPool -> Conv -> Conv -> MaxPool -> (Flatten) -> Dense -> Final Classification\n",
        "\n",
        "* Use strides of 1 for all convolutional layers.\n",
        "\n",
        "* Write the number of parameters of your model  and compare it to the previous model\n",
        "\n",
        "* Train it for 5 epochs. Compare the training time, loss and accuracy numbers (on both the training and validation sets).\n",
        "\n",
        "* Use different structures and run times, and see how accurate your model can be."
      ],
      "id": "southeast-theater"
    },
    {
      "cell_type": "code",
      "execution_count": null,
      "metadata": {
        "colab": {
          "base_uri": "https://localhost:8080/"
        },
        "id": "IPfOnpp8xSVw",
        "outputId": "3720e66d-7a91-4ec2-ea92-27fe168a46b2"
      },
      "outputs": [
        {
          "output_type": "stream",
          "name": "stdout",
          "text": [
            "Model: \"sequential_4\"\n",
            "_________________________________________________________________\n",
            " Layer (type)                Output Shape              Param #   \n",
            "=================================================================\n",
            " conv2d_12 (Conv2D)          (None, 32, 32, 16)        4816      \n",
            "                                                                 \n",
            " activation_20 (Activation)  (None, 32, 32, 16)        0         \n",
            "                                                                 \n",
            " conv2d_13 (Conv2D)          (None, 23, 23, 16)        25616     \n",
            "                                                                 \n",
            " activation_21 (Activation)  (None, 23, 23, 16)        0         \n",
            "                                                                 \n",
            " max_pooling2d_6 (MaxPoolin  (None, 11, 11, 16)        0         \n",
            " g2D)                                                            \n",
            "                                                                 \n",
            " dropout_10 (Dropout)        (None, 11, 11, 16)        0         \n",
            "                                                                 \n",
            " conv2d_14 (Conv2D)          (None, 11, 11, 32)        12832     \n",
            "                                                                 \n",
            " activation_22 (Activation)  (None, 11, 11, 32)        0         \n",
            "                                                                 \n",
            " conv2d_15 (Conv2D)          (None, 7, 7, 32)          25632     \n",
            "                                                                 \n",
            " activation_23 (Activation)  (None, 7, 7, 32)          0         \n",
            "                                                                 \n",
            " max_pooling2d_7 (MaxPoolin  (None, 3, 3, 32)          0         \n",
            " g2D)                                                            \n",
            "                                                                 \n",
            " dropout_11 (Dropout)        (None, 3, 3, 32)          0         \n",
            "                                                                 \n",
            " flatten_4 (Flatten)         (None, 288)               0         \n",
            "                                                                 \n",
            " dense_8 (Dense)             (None, 512)               147968    \n",
            "                                                                 \n",
            " activation_24 (Activation)  (None, 512)               0         \n",
            "                                                                 \n",
            " dropout_12 (Dropout)        (None, 512)               0         \n",
            "                                                                 \n",
            " dense_9 (Dense)             (None, 10)                5130      \n",
            "                                                                 \n",
            " activation_25 (Activation)  (None, 10)                0         \n",
            "                                                                 \n",
            "=================================================================\n",
            "Total params: 221994 (867.16 KB)\n",
            "Trainable params: 221994 (867.16 KB)\n",
            "Non-trainable params: 0 (0.00 Byte)\n",
            "_________________________________________________________________\n"
          ]
        }
      ],
      "source": [
        "modelsa_1 = Sequential()\n",
        "\n",
        "## 10x10 convolution with 1 stride and 16 filters\n",
        "modelsa_1.add(Conv2D(16, (10, 10), strides = 1, padding='same',\n",
        "                 input_shape=x_train.shape[1:]))\n",
        "modelsa_1.add(Activation('relu'))\n",
        "\n",
        "modelsa_1.add(Conv2D(16, (10, 10), strides = 1))\n",
        "modelsa_1.add(Activation('relu'))\n",
        "\n",
        "modelsa_1.add(MaxPooling2D(pool_size=(2,2)))\n",
        "modelsa_1.add(Dropout(0.2))\n",
        "\n",
        "## 5x5 convolution with 1 stride and 32 filters\n",
        "modelsa_1.add(Conv2D(32, (5, 5), strides = 1, padding='same'))\n",
        "modelsa_1.add(Activation('relu'))\n",
        "\n",
        "modelsa_1.add(Conv2D(32, (5, 5), strides = 1))\n",
        "modelsa_1.add(Activation('relu'))\n",
        "\n",
        "modelsa_1.add(MaxPooling2D(pool_size=(2,2)))\n",
        "modelsa_1.add(Dropout(0.25))\n",
        "\n",
        "modelsa_1.add(Flatten())\n",
        "modelsa_1.add(Dense(512))\n",
        "modelsa_1.add(Activation('relu'))\n",
        "modelsa_1.add(Dropout(0.5))\n",
        "modelsa_1.add(Dense(num_classes))\n",
        "modelsa_1.add(Activation('softmax'))\n",
        "\n",
        "modelsa_1.summary()"
      ],
      "id": "IPfOnpp8xSVw"
    },
    {
      "cell_type": "markdown",
      "metadata": {
        "id": "bhFeS5piCbEt"
      },
      "source": [
        "model_1 total number of parameters: 181,162\n",
        "\n",
        "modelsa_1 total number of parameters: 147,968\n",
        "\n",
        "The first model takes a higher number of parameters compared to the newer model made."
      ],
      "id": "bhFeS5piCbEt"
    },
    {
      "cell_type": "code",
      "execution_count": null,
      "metadata": {
        "colab": {
          "base_uri": "https://localhost:8080/"
        },
        "id": "P_IktW3EB25G",
        "outputId": "5b5f7edc-e09a-4389-a8b7-7b389734c51e"
      },
      "outputs": [
        {
          "output_type": "stream",
          "name": "stderr",
          "text": [
            "WARNING:absl:`lr` is deprecated in Keras optimizer, please use `learning_rate` or use the legacy optimizer, e.g.,tf.keras.optimizers.legacy.RMSprop.\n"
          ]
        },
        {
          "output_type": "stream",
          "name": "stdout",
          "text": [
            "Epoch 1/5\n",
            "1563/1563 [==============================] - 451s 288ms/step - loss: 1.8867 - accuracy: 0.3065 - val_loss: 1.5830 - val_accuracy: 0.4137\n",
            "Epoch 2/5\n",
            "1563/1563 [==============================] - 442s 283ms/step - loss: 1.6331 - accuracy: 0.4098 - val_loss: 1.5432 - val_accuracy: 0.4510\n",
            "Epoch 3/5\n",
            "1563/1563 [==============================] - 443s 283ms/step - loss: 1.5750 - accuracy: 0.4360 - val_loss: 1.4747 - val_accuracy: 0.4702\n",
            "Epoch 4/5\n",
            "1563/1563 [==============================] - 433s 277ms/step - loss: 1.5667 - accuracy: 0.4414 - val_loss: 1.5551 - val_accuracy: 0.4348\n",
            "Epoch 5/5\n",
            "1563/1563 [==============================] - 431s 276ms/step - loss: 1.5683 - accuracy: 0.4450 - val_loss: 1.4495 - val_accuracy: 0.4855\n"
          ]
        },
        {
          "output_type": "execute_result",
          "data": {
            "text/plain": [
              "<keras.src.callbacks.History at 0x7c5108b34fd0>"
            ]
          },
          "metadata": {},
          "execution_count": 37
        }
      ],
      "source": [
        "batch_size = 32\n",
        "\n",
        "opt = keras.optimizers.RMSprop(lr=0.0005)\n",
        "\n",
        "modelsa_1.compile(loss='categorical_crossentropy',\n",
        "              optimizer=opt,\n",
        "              metrics=['accuracy'])\n",
        "\n",
        "modelsa_1.fit(x_train, y_train,\n",
        "              batch_size=batch_size,\n",
        "              epochs=5,\n",
        "              validation_data=(x_test, y_test))"
      ],
      "id": "P_IktW3EB25G"
    },
    {
      "cell_type": "code",
      "execution_count": null,
      "metadata": {
        "colab": {
          "base_uri": "https://localhost:8080/"
        },
        "id": "vT8SN08yBwVT",
        "outputId": "b268c9eb-e89b-42b4-c61e-fb3d705c39e2"
      },
      "outputs": [
        {
          "output_type": "stream",
          "name": "stdout",
          "text": [
            "Model 1 Test Loss: 1.5379689931869507\n",
            "Model 1 Test Accuracy: 0.4830000102519989\n",
            "---------------------------------\n",
            "SA Model 1 Test Loss: 1.4494928121566772\n",
            "SA Model 1 Test Accuracy: 0.4855000078678131\n"
          ]
        }
      ],
      "source": [
        "score = model_1.evaluate(x_test, y_test, verbose=0)\n",
        "print('Model 1 Test Loss:', score[0])\n",
        "print('Model 1 Test Accuracy:', score[1])\n",
        "\n",
        "print('---------------------------------')\n",
        "\n",
        "score_sa = modelsa_1.evaluate(x_test, y_test, verbose=0)\n",
        "print('SA Model 1 Test Loss:', score_sa[0])\n",
        "print('SA Model 1 Test Accuracy:', score_sa[1])"
      ],
      "id": "vT8SN08yBwVT"
    },
    {
      "cell_type": "code",
      "execution_count": null,
      "metadata": {
        "id": "dH5c-levDwLN"
      },
      "outputs": [],
      "source": [
        "def plot_loss_accuracy(history):\n",
        "    fig = plt.figure(figsize=(12, 6))\n",
        "    ax = fig.add_subplot(1, 2, 1)\n",
        "    ax.plot(history.history[\"loss\"],'r-x', label=\"Train Loss\")\n",
        "    ax.plot(history.history[\"val_loss\"],'b-x', label=\"Validation Loss\")\n",
        "    ax.legend()\n",
        "    ax.set_title('loss')\n",
        "    ax.grid(True)\n",
        "\n",
        "\n",
        "    ax = fig.add_subplot(1, 2, 2)\n",
        "    ax.plot(history.history[\"accuracy\"],'r-x', label=\"Train Accuracy\")\n",
        "    ax.plot(history.history[\"val_accuracy\"],'b-x', label=\"Validation Accuracy\")\n",
        "    ax.legend()\n",
        "    ax.set_title('accuracy')\n",
        "    ax.grid(True)"
      ],
      "id": "dH5c-levDwLN"
    },
    {
      "cell_type": "code",
      "execution_count": null,
      "metadata": {
        "colab": {
          "base_uri": "https://localhost:8080/"
        },
        "id": "9CjVE02DKIMR",
        "outputId": "ff6c8cab-0fff-4cf7-9829-814508b09cc1"
      },
      "outputs": [
        {
          "output_type": "stream",
          "name": "stdout",
          "text": [
            "Model: \"sequential_5\"\n",
            "_________________________________________________________________\n",
            " Layer (type)                Output Shape              Param #   \n",
            "=================================================================\n",
            " conv2d_16 (Conv2D)          (None, 32, 32, 32)        1568      \n",
            "                                                                 \n",
            " activation_26 (Activation)  (None, 32, 32, 32)        0         \n",
            "                                                                 \n",
            " conv2d_17 (Conv2D)          (None, 29, 29, 32)        16416     \n",
            "                                                                 \n",
            " activation_27 (Activation)  (None, 29, 29, 32)        0         \n",
            "                                                                 \n",
            " max_pooling2d_8 (MaxPoolin  (None, 14, 14, 32)        0         \n",
            " g2D)                                                            \n",
            "                                                                 \n",
            " dropout_13 (Dropout)        (None, 14, 14, 32)        0         \n",
            "                                                                 \n",
            " conv2d_18 (Conv2D)          (None, 14, 14, 64)        8256      \n",
            "                                                                 \n",
            " activation_28 (Activation)  (None, 14, 14, 64)        0         \n",
            "                                                                 \n",
            " conv2d_19 (Conv2D)          (None, 13, 13, 64)        16448     \n",
            "                                                                 \n",
            " activation_29 (Activation)  (None, 13, 13, 64)        0         \n",
            "                                                                 \n",
            " max_pooling2d_9 (MaxPoolin  (None, 6, 6, 64)          0         \n",
            " g2D)                                                            \n",
            "                                                                 \n",
            " dropout_14 (Dropout)        (None, 6, 6, 64)          0         \n",
            "                                                                 \n",
            " flatten_5 (Flatten)         (None, 2304)              0         \n",
            "                                                                 \n",
            " dense_10 (Dense)            (None, 512)               1180160   \n",
            "                                                                 \n",
            " activation_30 (Activation)  (None, 512)               0         \n",
            "                                                                 \n",
            " dropout_15 (Dropout)        (None, 512)               0         \n",
            "                                                                 \n",
            " dense_11 (Dense)            (None, 10)                5130      \n",
            "                                                                 \n",
            " activation_31 (Activation)  (None, 10)                0         \n",
            "                                                                 \n",
            "=================================================================\n",
            "Total params: 1227978 (4.68 MB)\n",
            "Trainable params: 1227978 (4.68 MB)\n",
            "Non-trainable params: 0 (0.00 Byte)\n",
            "_________________________________________________________________\n"
          ]
        }
      ],
      "source": [
        "modelsa_2 = Sequential()\n",
        "\n",
        "## 4x4 convolution with 1 stride and 32 filters\n",
        "modelsa_2.add(Conv2D(32, (4, 4), strides = 1, padding='same',\n",
        "                 input_shape=x_train.shape[1:]))\n",
        "modelsa_2.add(Activation('relu'))\n",
        "\n",
        "modelsa_2.add(Conv2D(32, (4, 4), strides = 1))\n",
        "modelsa_2.add(Activation('relu'))\n",
        "\n",
        "modelsa_2.add(MaxPooling2D(pool_size=(2,2)))\n",
        "modelsa_2.add(Dropout(0.2))\n",
        "\n",
        "## 2x2 convolution with 1 stride and 64 filters\n",
        "modelsa_2.add(Conv2D(64, (2, 2), strides = 1, padding='same'))\n",
        "modelsa_2.add(Activation('relu'))\n",
        "\n",
        "modelsa_2.add(Conv2D(64, (2, 2), strides = 1))\n",
        "modelsa_2.add(Activation('relu'))\n",
        "\n",
        "modelsa_2.add(MaxPooling2D(pool_size=(2,2)))\n",
        "modelsa_2.add(Dropout(0.25))\n",
        "\n",
        "modelsa_2.add(Flatten())\n",
        "modelsa_2.add(Dense(512))\n",
        "modelsa_2.add(Activation('relu'))\n",
        "modelsa_2.add(Dropout(0.5))\n",
        "modelsa_2.add(Dense(num_classes))\n",
        "modelsa_2.add(Activation('softmax'))\n",
        "\n",
        "modelsa_2.summary()"
      ],
      "id": "9CjVE02DKIMR"
    },
    {
      "cell_type": "code",
      "execution_count": null,
      "metadata": {
        "colab": {
          "base_uri": "https://localhost:8080/"
        },
        "id": "XY3-HD_oD0Yp",
        "outputId": "c7dff6ec-3ed1-45d3-b473-15c40d5699f8"
      },
      "outputs": [
        {
          "output_type": "stream",
          "name": "stderr",
          "text": [
            "WARNING:absl:`lr` is deprecated in Keras optimizer, please use `learning_rate` or use the legacy optimizer, e.g.,tf.keras.optimizers.legacy.RMSprop.\n"
          ]
        },
        {
          "output_type": "stream",
          "name": "stdout",
          "text": [
            "Epoch 1/10\n",
            "1667/1667 [==============================] - 287s 171ms/step - loss: 1.5872 - accuracy: 0.4257 - val_loss: 1.2883 - val_accuracy: 0.5355\n",
            "Epoch 2/10\n",
            "1667/1667 [==============================] - 283s 170ms/step - loss: 1.2370 - accuracy: 0.5629 - val_loss: 1.1391 - val_accuracy: 0.5938\n",
            "Epoch 3/10\n",
            "1667/1667 [==============================] - 285s 171ms/step - loss: 1.1045 - accuracy: 0.6142 - val_loss: 0.9504 - val_accuracy: 0.6695\n",
            "Epoch 4/10\n",
            "1667/1667 [==============================] - 276s 165ms/step - loss: 1.0355 - accuracy: 0.6411 - val_loss: 0.9237 - val_accuracy: 0.6847\n",
            "Epoch 5/10\n",
            "1667/1667 [==============================] - 273s 164ms/step - loss: 0.9956 - accuracy: 0.6586 - val_loss: 0.9088 - val_accuracy: 0.6914\n",
            "Epoch 6/10\n",
            "1667/1667 [==============================] - 275s 165ms/step - loss: 0.9919 - accuracy: 0.6667 - val_loss: 0.9983 - val_accuracy: 0.6628\n",
            "Epoch 7/10\n",
            "1667/1667 [==============================] - 276s 166ms/step - loss: 0.9834 - accuracy: 0.6718 - val_loss: 0.9966 - val_accuracy: 0.6751\n",
            "Epoch 8/10\n",
            "1667/1667 [==============================] - 264s 158ms/step - loss: 1.0118 - accuracy: 0.6665 - val_loss: 1.9605 - val_accuracy: 0.4851\n",
            "Epoch 9/10\n",
            "1667/1667 [==============================] - 267s 160ms/step - loss: 1.0217 - accuracy: 0.6656 - val_loss: 1.0870 - val_accuracy: 0.6380\n",
            "Epoch 10/10\n",
            "1667/1667 [==============================] - 278s 167ms/step - loss: 1.0425 - accuracy: 0.6594 - val_loss: 1.1626 - val_accuracy: 0.6223\n"
          ]
        }
      ],
      "source": [
        "batch_size = 30\n",
        "\n",
        "opt = keras.optimizers.RMSprop(lr=0.0005)\n",
        "\n",
        "modelsa_2.compile(loss='categorical_crossentropy',\n",
        "              optimizer=opt,\n",
        "              metrics=['accuracy'])\n",
        "\n",
        "m2hist = modelsa_2.fit(x_train, y_train,\n",
        "              batch_size=batch_size,\n",
        "              epochs=10,\n",
        "              validation_data=(x_test, y_test))"
      ],
      "id": "XY3-HD_oD0Yp"
    },
    {
      "cell_type": "code",
      "execution_count": null,
      "metadata": {
        "colab": {
          "base_uri": "https://localhost:8080/"
        },
        "id": "p9jNPB0ivs-b",
        "outputId": "a8f13947-5e53-48f2-aa0d-afb56c7bea63"
      },
      "outputs": [
        {
          "output_type": "stream",
          "name": "stdout",
          "text": [
            "Model 1 Test Loss: 1.5379689931869507\n",
            "Model 1 Test Accuracy: 0.4830000102519989\n",
            "---------------------------------\n",
            "SA Model 1 Test Loss: 1.4494928121566772\n",
            "SA Model 1 Test Accuracy: 0.4855000078678131\n",
            "---------------------------------\n",
            "SA Model 2 Test Loss: 1.1625723838806152\n",
            "SA Model 2 Test Accuracy: 0.6223000288009644\n"
          ]
        }
      ],
      "source": [
        "score = model_1.evaluate(x_test, y_test, verbose=0)\n",
        "print('Model 1 Test Loss:', score[0])\n",
        "print('Model 1 Test Accuracy:', score[1])\n",
        "\n",
        "print('---------------------------------')\n",
        "\n",
        "score_sa1 = modelsa_1.evaluate(x_test, y_test, verbose=0)\n",
        "print('SA Model 1 Test Loss:', score_sa1[0])\n",
        "print('SA Model 1 Test Accuracy:', score_sa1[1])\n",
        "\n",
        "print('---------------------------------')\n",
        "\n",
        "score_sa2 = modelsa_2.evaluate(x_test, y_test, verbose=0)\n",
        "print('SA Model 2 Test Loss:', score_sa2[0])\n",
        "print('SA Model 2 Test Accuracy:', score_sa2[1])"
      ],
      "id": "p9jNPB0ivs-b"
    },
    {
      "cell_type": "code",
      "execution_count": null,
      "metadata": {
        "id": "6lI9kJEDvvKZ",
        "colab": {
          "base_uri": "https://localhost:8080/",
          "height": 545
        },
        "outputId": "4a23215a-f1fb-4e9d-c19d-6b9812d05b46"
      },
      "outputs": [
        {
          "output_type": "display_data",
          "data": {
            "text/plain": [
              "<Figure size 1200x600 with 2 Axes>"
            ],
            "image/png": "[encoded data removed]"
          },
          "metadata": {}
        }
      ],
      "source": [
        "plot_loss_accuracy(m2hist)"
      ],
      "id": "6lI9kJEDvvKZ"
    },
    {
      "cell_type": "markdown",
      "metadata": {
        "id": "compact-still"
      },
      "source": [
        "#### Conclusion"
      ],
      "id": "compact-still"
    },
    {
      "cell_type": "markdown",
      "metadata": {
        "id": "desirable-jackson"
      },
      "source": [
        "#type your answer here"
      ],
      "id": "desirable-jackson"
    }
  ],
  "metadata": {
    "colab": {
      "provenance": []
    },
    "kernelspec": {
      "display_name": "Python 3",
      "language": "python",
      "name": "python3"
    },
    "language_info": {
      "codemirror_mode": {
        "name": "ipython",
        "version": 3
      },
      "file_extension": ".py",
      "mimetype": "text/x-python",
      "name": "python",
      "nbconvert_exporter": "python",
      "pygments_lexer": "ipython3",
      "version": "3.7.10"
    }
  },
  "nbformat": 4,
  "nbformat_minor": 5
}