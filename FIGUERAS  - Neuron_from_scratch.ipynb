{
  "nbformat": 4,
  "nbformat_minor": 0,
  "metadata": {
    "colab": {
      "provenance": []
    },
    "kernelspec": {
      "name": "python3",
      "display_name": "Python 3"
    },
    "language_info": {
      "name": "python"
    }
  },
  "cells": [
    {
      "cell_type": "code",
      "execution_count": 142,
      "metadata": {
        "id": "uSOiyCYzKoII"
      },
      "outputs": [],
      "source": [
        "import numpy as np\n",
        "class Neuron:\n",
        "  def __init__(self, inputs, weights):\n",
        "    self.inputs = inputs\n",
        "    self.weights = weights\n",
        "\n",
        "  def adder_func(self):\n",
        "    output = map(np.prod, zip(self.inputs, self.weights))\n",
        "    return sum(output)\n",
        "\n",
        "  def relu_afunc(self):\n",
        "    output = self.adder_func()\n",
        "    if output < 0:\n",
        "      return 0\n",
        "    else:\n",
        "      return output"
      ]
    },
    {
      "cell_type": "code",
      "source": [
        "n = Neuron(inputs=[10, 15, 20, 30], weights=[-0.6, -0.8, 0.2, 0.1])\n",
        "n.adder_func()"
      ],
      "metadata": {
        "colab": {
          "base_uri": "https://localhost:8080/"
        },
        "id": "qfAB9dTBNoRz",
        "outputId": "c68a67c4-f65f-4a25-e15b-2c232a85b3ff"
      },
      "execution_count": 143,
      "outputs": [
        {
          "output_type": "execute_result",
          "data": {
            "text/plain": [
              "-11.0"
            ]
          },
          "metadata": {},
          "execution_count": 143
        }
      ]
    },
    {
      "cell_type": "code",
      "source": [
        "n.inputs"
      ],
      "metadata": {
        "colab": {
          "base_uri": "https://localhost:8080/"
        },
        "id": "NGOiPVJsS7Hd",
        "outputId": "d7f4df98-a3d0-4255-a7a8-3355eb0afb13"
      },
      "execution_count": 144,
      "outputs": [
        {
          "output_type": "execute_result",
          "data": {
            "text/plain": [
              "[10, 15, 20, 30]"
            ]
          },
          "metadata": {},
          "execution_count": 144
        }
      ]
    },
    {
      "cell_type": "code",
      "source": [
        "n.weights"
      ],
      "metadata": {
        "colab": {
          "base_uri": "https://localhost:8080/"
        },
        "id": "QkF5k0RFOv6b",
        "outputId": "13ccf725-9f69-4ef5-c326-e2c2fd52a558"
      },
      "execution_count": 145,
      "outputs": [
        {
          "output_type": "execute_result",
          "data": {
            "text/plain": [
              "[-0.6, -0.8, 0.2, 0.1]"
            ]
          },
          "metadata": {},
          "execution_count": 145
        }
      ]
    },
    {
      "cell_type": "code",
      "source": [
        "n.relu_afunc()"
      ],
      "metadata": {
        "colab": {
          "base_uri": "https://localhost:8080/"
        },
        "id": "SAOL2KAQYbCJ",
        "outputId": "4fee9abc-a79c-4bc9-e5e8-fa4e743ab90a"
      },
      "execution_count": 146,
      "outputs": [
        {
          "output_type": "execute_result",
          "data": {
            "text/plain": [
              "0"
            ]
          },
          "metadata": {},
          "execution_count": 146
        }
      ]
    }
  ]
}